{
 "cells": [
  {
   "cell_type": "code",
   "execution_count": null,
   "metadata": {},
   "outputs": [],
   "source": [
    "import pandas as pd\n",
    "from geopy.distance import geodesic\n",
    "\n",
    "## Download data##\n",
    "combined_gdf = pd.read_csv(\"/mnt/c/Users/tbrag/OneDrive/Desktop/bda602venv/ML Project/flight_with_station_data.csv\")\n",
    "weather_df = pd.read_csv(\"/mnt/c/Users/tbrag/OneDrive/Desktop/bda602venv/ML Project/weather_data.csv\")"
   ]
  },
  {
   "cell_type": "code",
   "execution_count": null,
   "metadata": {},
   "outputs": [],
   "source": [
    "len(weather_df[\"DATE\"].unique())\n",
    "\n"
   ]
  },
  {
   "cell_type": "code",
   "execution_count": null,
   "metadata": {},
   "outputs": [],
   "source": [
    "# Merge flight_station_data with weather_data for origin airport\n",
    "flight_weather_data = combined_gdf.merge(weather_df, left_on=['origin_station_id',\"FL_DATE\"], right_on=['station_id','DATE'], how='left')\n",
    "\n",
    "# Rename columns to indicate origin airport weather\n",
    "flight_weather_data = flight_weather_data.rename(columns={'AWND': 'ori_AWND', 'PCRP': 'ori_PRCP','SNOW':'ori_SNOW','SNWD':'ori_SNWD','TMAX':'ori_TMAX','TMIN':'ori_TMIN'})\n",
    "\n",
    "# Merge flight_station_data with weather_data for destination weather\n",
    "flight_weather_data = flight_weather_data.merge(weather_df, left_on=['dest_station_id','FL_DATE'], right_on=['station_id','DATE'], how='left')\n",
    "\n",
    "# Rename columns to indicate destination weather\n",
    "flight_weather_data = flight_weather_data.rename(columns={'AWND': 'dest_AWND', 'PCRP': 'dest_PRCP','SNOW':'dest_SNOW','SNWD':'dest_SNWD','TMAX':'dest_TMAX','TMIN':'dest_TMIN'})\n",
    "\n",
    "# Drop unnecessary columns (iata_x and iata_y)\n",
    "#flight_data.drop(columns=['iata_x', 'iata_y'], inplace=True)\n",
    "\n",
    "flight_weather_data.head(5)\n",
    "\n",
    "\n",
    "##export the new table##\n",
    "flight_weather_data.to_csv('flight_weather_fulldata.csv', index=False)\n",
    "\n",
    "\n"
   ]
  },
  {
   "cell_type": "code",
   "execution_count": null,
   "metadata": {},
   "outputs": [],
   "source": [
    "### Method used inside of the apply function\n",
    "#def get_point(row):\n",
    "    #init_coords = (row[\"origin_latitude\"],row[\"origin_longitude\"])\n",
    "    #terminal_coords =(row[\"dest_latitude\"],row[\"dest_longitude\"])\n",
    "    #return geodesic(init_coords, terminal_coords).miles\n",
    "#distance=flight_weather_data.apply(get_point, axis=1)\n",
    "#distance.head(5)\n",
    "#flight_weather_data[\"curve_distance\"] = distance\n",
    "#flight_weather_data.head(2)"
   ]
  },
  {
   "cell_type": "code",
   "execution_count": null,
   "metadata": {},
   "outputs": [],
   "source": [
    "import pandas as pd\n",
    "\n",
    "flight_weather_data = pd.read_csv(\"/mnt/c/Users/tbrag/OneDrive/Desktop/bda602venv/ML Project/flight_weather_fulldata.csv\")\n",
    "\n",
    "# Count rows where both ori_TMIN and dest_TMIN are not NaN\n",
    "count_valid = (flight_weather_data['ori_TMIN'].notna() & flight_weather_data['dest_TMIN'].notna()).sum()\n",
    "\n",
    "print(f\"Number of rows where both ori_TMIN and dest_TMIN are not NaN: {count_valid}\")\n",
    "\n",
    "#filter those rows out for models including weather\n",
    "filtered_data = flight_weather_data[(flight_weather_data['ori_TMIN'].notna()) & (flight_weather_data['dest_TMIN'].notna())]\n",
    "\n",
    "##export the new table##\n",
    "filtered_data.to_csv('filtered_flight_weather.csv', index=False)\n",
    "\n"
   ]
  },
  {
   "cell_type": "code",
   "execution_count": null,
   "metadata": {},
   "outputs": [],
   "source": [
    "# List of columns to keep\n",
    "columns_to_keep = ['FL_DATE','FL_NUMBER','ori_TMIN','ori_TMAX','ori_SNOW','ori_SNWD','ori_AWND','ori_PRCP','dest_TMIN','dest_TMAX','dest_SNOW','dest_SNWD','dest_AWND','dest_PRCP']\n",
    "\n",
    "# Drop all columns except the specified ones\n",
    "flight_weather_data_edited = flight_weather_data.drop(columns=flight_weather_data.columns.difference(columns_to_keep))\n",
    "\n",
    "\n",
    "\n",
    "flight_weather_data_edited.head(10)\n",
    "\n",
    "##export the new table##\n",
    "flight_weather_data_edited.to_csv('flight_weather_edited.csv', index=False)"
   ]
  },
  {
   "cell_type": "code",
   "execution_count": null,
   "metadata": {},
   "outputs": [],
   "source": [
    "\n",
    "\n"
   ]
  }
 ],
 "metadata": {
  "kernelspec": {
   "display_name": "bda602",
   "language": "python",
   "name": "python3"
  },
  "language_info": {
   "codemirror_mode": {
    "name": "ipython",
    "version": 3
   },
   "file_extension": ".py",
   "mimetype": "text/x-python",
   "name": "python",
   "nbconvert_exporter": "python",
   "pygments_lexer": "ipython3",
   "version": "3.12.1"
  }
 },
 "nbformat": 4,
 "nbformat_minor": 2
}
