{
 "cells": [
  {
   "cell_type": "code",
   "execution_count": 1,
   "id": "a0f24a17-a544-4b19-9cb0-1aee3aeaeb87",
   "metadata": {},
   "outputs": [],
   "source": [
    "# !pip install tensorflow"
   ]
  },
  {
   "cell_type": "code",
   "execution_count": 2,
   "id": "74fb6d48-620d-4b76-9017-c0bfd18562dd",
   "metadata": {},
   "outputs": [],
   "source": [
    "import tensorflow as tf\n",
    "import pandas as pd\n",
    "\n",
    "# Import Layers, Optimizers, and the Model Creation Function:\n",
    "from tensorflow.keras.layers import Input, Dense\n",
    "from tensorflow.keras.optimizers import Adam  # Optimize training and weight calculation\n",
    "from tensorflow.keras.models import Model  # Combine our layers and for the Neural Network"
   ]
  },
  {
   "cell_type": "code",
   "execution_count": 3,
   "id": "106c2e43",
   "metadata": {},
   "outputs": [
    {
     "data": {
      "text/html": [
       "<div>\n",
       "<style scoped>\n",
       "    .dataframe tbody tr th:only-of-type {\n",
       "        vertical-align: middle;\n",
       "    }\n",
       "\n",
       "    .dataframe tbody tr th {\n",
       "        vertical-align: top;\n",
       "    }\n",
       "\n",
       "    .dataframe thead th {\n",
       "        text-align: right;\n",
       "    }\n",
       "</style>\n",
       "<table border=\"1\" class=\"dataframe\">\n",
       "  <thead>\n",
       "    <tr style=\"text-align: right;\">\n",
       "      <th></th>\n",
       "      <th>AIRLINE</th>\n",
       "      <th>ORIGIN</th>\n",
       "      <th>ORIGIN_CITY</th>\n",
       "      <th>DEST</th>\n",
       "      <th>DEST_CITY</th>\n",
       "      <th>DEP_DELAY</th>\n",
       "      <th>CRS_ARR_TIME</th>\n",
       "      <th>ARR_DELAY</th>\n",
       "      <th>CANCELLED</th>\n",
       "      <th>DIVERTED</th>\n",
       "      <th>...</th>\n",
       "      <th>dest_SNWD</th>\n",
       "      <th>dest_AWND</th>\n",
       "      <th>dest_PRCP</th>\n",
       "      <th>CRS_DEP_Datetime</th>\n",
       "      <th>15_DELAYED</th>\n",
       "      <th>year</th>\n",
       "      <th>month</th>\n",
       "      <th>day</th>\n",
       "      <th>day_of_week</th>\n",
       "      <th>hour</th>\n",
       "    </tr>\n",
       "  </thead>\n",
       "  <tbody>\n",
       "    <tr>\n",
       "      <th>0</th>\n",
       "      <td>Spirit Air Lines</td>\n",
       "      <td>MCO</td>\n",
       "      <td>Orlando, FL</td>\n",
       "      <td>DFW</td>\n",
       "      <td>Dallas/Fort Worth, TX</td>\n",
       "      <td>-2.0</td>\n",
       "      <td>2041</td>\n",
       "      <td>-1.0</td>\n",
       "      <td>0.0</td>\n",
       "      <td>0.0</td>\n",
       "      <td>...</td>\n",
       "      <td>0.0</td>\n",
       "      <td>55.0</td>\n",
       "      <td>8.0</td>\n",
       "      <td>2020-02-23 18:40:00</td>\n",
       "      <td>0</td>\n",
       "      <td>2020</td>\n",
       "      <td>2</td>\n",
       "      <td>23</td>\n",
       "      <td>6</td>\n",
       "      <td>18</td>\n",
       "    </tr>\n",
       "  </tbody>\n",
       "</table>\n",
       "<p>1 rows × 30 columns</p>\n",
       "</div>"
      ],
      "text/plain": [
       "            AIRLINE ORIGIN  ORIGIN_CITY DEST              DEST_CITY  \\\n",
       "0  Spirit Air Lines    MCO  Orlando, FL  DFW  Dallas/Fort Worth, TX   \n",
       "\n",
       "   DEP_DELAY  CRS_ARR_TIME  ARR_DELAY  CANCELLED  DIVERTED  ...  dest_SNWD  \\\n",
       "0       -2.0          2041       -1.0        0.0       0.0  ...        0.0   \n",
       "\n",
       "   dest_AWND  dest_PRCP     CRS_DEP_Datetime  15_DELAYED  year  month  day  \\\n",
       "0       55.0        8.0  2020-02-23 18:40:00           0  2020      2   23   \n",
       "\n",
       "   day_of_week  hour  \n",
       "0            6    18  \n",
       "\n",
       "[1 rows x 30 columns]"
      ]
     },
     "execution_count": 3,
     "metadata": {},
     "output_type": "execute_result"
    }
   ],
   "source": [
    "data = pd.read_csv('C:/Users/migue/Desktop/MachineLearning/prueba/rileys_data.csv')\n",
    "data.head(1)"
   ]
  },
  {
   "cell_type": "code",
   "execution_count": 4,
   "id": "a401f35e",
   "metadata": {},
   "outputs": [
    {
     "data": {
      "text/plain": [
       "Index(['AIRLINE', 'ORIGIN', 'ORIGIN_CITY', 'DEST', 'DEST_CITY', 'DEP_DELAY',\n",
       "       'CRS_ARR_TIME', 'ARR_DELAY', 'CANCELLED', 'DIVERTED', 'DISTANCE',\n",
       "       'ori_TMIN', 'ori_TMAX', 'ori_SNOW', 'ori_SNWD', 'ori_AWND', 'ori_PRCP',\n",
       "       'dest_TMIN', 'dest_TMAX', 'dest_SNOW', 'dest_SNWD', 'dest_AWND',\n",
       "       'dest_PRCP', 'CRS_DEP_Datetime', '15_DELAYED', 'year', 'month', 'day',\n",
       "       'day_of_week', 'hour'],\n",
       "      dtype='object')"
      ]
     },
     "execution_count": 4,
     "metadata": {},
     "output_type": "execute_result"
    }
   ],
   "source": [
    "data.columns"
   ]
  },
  {
   "cell_type": "code",
   "execution_count": 5,
   "id": "d2828ba9",
   "metadata": {},
   "outputs": [
    {
     "data": {
      "text/plain": [
       "Index(['AIRLINE', 'ORIGIN', 'DEST', 'DISTANCE', 'ori_TMIN', 'ori_TMAX',\n",
       "       'ori_SNOW', 'ori_SNWD', 'ori_AWND', 'ori_PRCP', 'dest_TMIN',\n",
       "       'dest_TMAX', 'dest_SNOW', 'dest_SNWD', 'dest_AWND', 'dest_PRCP',\n",
       "       '15_DELAYED', 'year', 'month', 'day', 'day_of_week', 'hour'],\n",
       "      dtype='object')"
      ]
     },
     "execution_count": 5,
     "metadata": {},
     "output_type": "execute_result"
    }
   ],
   "source": [
    "used_data=data.loc[:,~data.columns.isin(['ORIGIN_CITY', 'DEST_CITY','DEP_DELAY','ARR_DELAY','CANCELLED','DIVERTED','CRS_DEP_Datetime','CRS_ARR_TIME'])].copy()\n",
    "used_data.columns"
   ]
  },
  {
   "cell_type": "code",
   "execution_count": 6,
   "id": "cfc800d0",
   "metadata": {},
   "outputs": [],
   "source": [
    "\n",
    "# Define a function to replace infrequent categories with 'Other'\n",
    "def replace_infrequent_categories(df, categorical_cols, threshold=0.05, other_label='Other'):\n",
    "    for col in categorical_cols:\n",
    "        counts = df[col].value_counts(normalize=True)\n",
    "        infrequent_categories = counts[counts < threshold].index\n",
    "        df[col] = df[col].replace(infrequent_categories, other_label)\n",
    "    return df\n",
    "\n",
    "# Define threshold for infrequent categories (adjust as needed)\n",
    "threshold = 0.035"
   ]
  },
  {
   "cell_type": "code",
   "execution_count": 7,
   "id": "9c856223",
   "metadata": {},
   "outputs": [],
   "source": [
    "X = used_data.drop(['15_DELAYED'], axis=1)\n",
    "y = used_data['15_DELAYED']\n",
    "\n",
    "\n",
    "categorical_cols = ['AIRLINE','ORIGIN','DEST']\n",
    "numeric_cols = [col for col in used_data.columns if col not in categorical_cols]\n",
    "numeric_cols.remove('15_DELAYED')\n",
    "# Replace infrequent categories with 'Other'\n",
    "df_processed = replace_infrequent_categories(X, categorical_cols, threshold)"
   ]
  },
  {
   "cell_type": "code",
   "execution_count": 8,
   "id": "d4b4a3be",
   "metadata": {},
   "outputs": [
    {
     "name": "stdout",
     "output_type": "stream",
     "text": [
      "airline   17\n",
      "origin   221\n",
      "dest   220\n",
      "airline   11\n",
      "origin   6\n",
      "dest   6\n"
     ]
    }
   ],
   "source": [
    "print('airline  ',len(used_data['AIRLINE'].unique()))\n",
    "print('origin  ',len(used_data['ORIGIN'].unique()))\n",
    "print('dest  ',len(used_data['DEST'].unique()))\n",
    "print('airline  ',len(df_processed['AIRLINE'].unique()))\n",
    "print('origin  ',len(df_processed['ORIGIN'].unique()))\n",
    "print('dest  ',len(df_processed['DEST'].unique()))"
   ]
  },
  {
   "cell_type": "code",
   "execution_count": 9,
   "id": "328c86f4",
   "metadata": {},
   "outputs": [],
   "source": [
    "from sklearn.preprocessing import OneHotEncoder\n",
    "import pandas as pd\n",
    "\n",
    "# Inicializar el codificador OneHotEncoder sin matriz dispersa\n",
    "\n",
    "encoder = OneHotEncoder(sparse_output=False)\n",
    "\n",
    "# Ajustar y transformar los datos categóricos usando OneHotEncoder\n",
    "encoded_data = encoder.fit_transform(df_processed[categorical_cols])\n",
    "\n",
    "# Crear un DataFrame con las columnas codificadas\n",
    "encoded_df = pd.DataFrame(encoded_data, columns=encoder.get_feature_names_out(categorical_cols))\n",
    "\n",
    "\n",
    "\n",
    "# Concatenar el DataFrame original con el DataFrame codificado\n",
    "encoded_data = pd.concat([df_processed.reset_index(drop=True), encoded_df], axis=1)\n",
    "\n",
    "# Eliminar las columnas originales categóricas del DataFrame original\n",
    "encoded_data.drop(categorical_cols, axis=1, inplace=True)\n"
   ]
  },
  {
   "cell_type": "code",
   "execution_count": 10,
   "id": "4eb6f34e",
   "metadata": {},
   "outputs": [
    {
     "data": {
      "text/html": [
       "<div>\n",
       "<style scoped>\n",
       "    .dataframe tbody tr th:only-of-type {\n",
       "        vertical-align: middle;\n",
       "    }\n",
       "\n",
       "    .dataframe tbody tr th {\n",
       "        vertical-align: top;\n",
       "    }\n",
       "\n",
       "    .dataframe thead th {\n",
       "        text-align: right;\n",
       "    }\n",
       "</style>\n",
       "<table border=\"1\" class=\"dataframe\">\n",
       "  <thead>\n",
       "    <tr style=\"text-align: right;\">\n",
       "      <th></th>\n",
       "      <th>DISTANCE</th>\n",
       "      <th>ori_TMIN</th>\n",
       "      <th>ori_TMAX</th>\n",
       "      <th>ori_SNOW</th>\n",
       "      <th>ori_SNWD</th>\n",
       "      <th>ori_AWND</th>\n",
       "      <th>ori_PRCP</th>\n",
       "      <th>dest_TMIN</th>\n",
       "      <th>dest_TMAX</th>\n",
       "      <th>dest_SNOW</th>\n",
       "      <th>...</th>\n",
       "      <th>ORIGIN_DEN</th>\n",
       "      <th>ORIGIN_DFW</th>\n",
       "      <th>ORIGIN_ORD</th>\n",
       "      <th>ORIGIN_Other</th>\n",
       "      <th>DEST_ATL</th>\n",
       "      <th>DEST_CLT</th>\n",
       "      <th>DEST_DEN</th>\n",
       "      <th>DEST_DFW</th>\n",
       "      <th>DEST_ORD</th>\n",
       "      <th>DEST_Other</th>\n",
       "    </tr>\n",
       "  </thead>\n",
       "  <tbody>\n",
       "    <tr>\n",
       "      <th>0</th>\n",
       "      <td>0.452015</td>\n",
       "      <td>0.043486</td>\n",
       "      <td>0.323359</td>\n",
       "      <td>-0.103983</td>\n",
       "      <td>-0.14447</td>\n",
       "      <td>-0.288833</td>\n",
       "      <td>-0.311327</td>\n",
       "      <td>-0.347657</td>\n",
       "      <td>-0.623824</td>\n",
       "      <td>-0.103003</td>\n",
       "      <td>...</td>\n",
       "      <td>0.0</td>\n",
       "      <td>0.0</td>\n",
       "      <td>0.0</td>\n",
       "      <td>1.0</td>\n",
       "      <td>0.0</td>\n",
       "      <td>0.0</td>\n",
       "      <td>0.0</td>\n",
       "      <td>1.0</td>\n",
       "      <td>0.0</td>\n",
       "      <td>0.0</td>\n",
       "    </tr>\n",
       "  </tbody>\n",
       "</table>\n",
       "<p>1 rows × 41 columns</p>\n",
       "</div>"
      ],
      "text/plain": [
       "   DISTANCE  ori_TMIN  ori_TMAX  ori_SNOW  ori_SNWD  ori_AWND  ori_PRCP  \\\n",
       "0  0.452015  0.043486  0.323359 -0.103983  -0.14447 -0.288833 -0.311327   \n",
       "\n",
       "   dest_TMIN  dest_TMAX  dest_SNOW  ...  ORIGIN_DEN  ORIGIN_DFW  ORIGIN_ORD  \\\n",
       "0  -0.347657  -0.623824  -0.103003  ...         0.0         0.0         0.0   \n",
       "\n",
       "   ORIGIN_Other  DEST_ATL  DEST_CLT  DEST_DEN  DEST_DFW  DEST_ORD  DEST_Other  \n",
       "0           1.0       0.0       0.0       0.0       1.0       0.0         0.0  \n",
       "\n",
       "[1 rows x 41 columns]"
      ]
     },
     "execution_count": 10,
     "metadata": {},
     "output_type": "execute_result"
    }
   ],
   "source": [
    "from sklearn.preprocessing import StandardScaler\n",
    "\n",
    "scaler = StandardScaler()\n",
    "encoded_data[numeric_cols] = scaler.fit_transform(encoded_data[numeric_cols])\n",
    "encoded_data.head(1)\n"
   ]
  },
  {
   "cell_type": "code",
   "execution_count": 11,
   "id": "63fa74fb",
   "metadata": {},
   "outputs": [],
   "source": [
    "from sklearn.model_selection import train_test_split\n",
    "\n",
    "X = encoded_data # Asegúrate de reemplazar 'TARGET_COLUMN' con el nombre de tu columna objetivo\n",
    "X_train, X_test, y_train, y_test = train_test_split(X, y, test_size=0.2, random_state=777)"
   ]
  },
  {
   "cell_type": "code",
   "execution_count": 12,
   "id": "9be3c0f0-06bd-44a5-abcd-998557fd5d6a",
   "metadata": {},
   "outputs": [
    {
     "data": {
      "text/html": [
       "<pre style=\"white-space:pre;overflow-x:auto;line-height:normal;font-family:Menlo,'DejaVu Sans Mono',consolas,'Courier New',monospace\"><span style=\"font-weight: bold\">Model: \"functional_1\"</span>\n",
       "</pre>\n"
      ],
      "text/plain": [
       "\u001b[1mModel: \"functional_1\"\u001b[0m\n"
      ]
     },
     "metadata": {},
     "output_type": "display_data"
    },
    {
     "data": {
      "text/html": [
       "<pre style=\"white-space:pre;overflow-x:auto;line-height:normal;font-family:Menlo,'DejaVu Sans Mono',consolas,'Courier New',monospace\">┏━━━━━━━━━━━━━━━━━━━━━━━━━━━━━━━━━┳━━━━━━━━━━━━━━━━━━━━━━━━┳━━━━━━━━━━━━━━━┓\n",
       "┃<span style=\"font-weight: bold\"> Layer (type)                    </span>┃<span style=\"font-weight: bold\"> Output Shape           </span>┃<span style=\"font-weight: bold\">       Param # </span>┃\n",
       "┡━━━━━━━━━━━━━━━━━━━━━━━━━━━━━━━━━╇━━━━━━━━━━━━━━━━━━━━━━━━╇━━━━━━━━━━━━━━━┩\n",
       "│ Input (<span style=\"color: #0087ff; text-decoration-color: #0087ff\">InputLayer</span>)              │ (<span style=\"color: #00d7ff; text-decoration-color: #00d7ff\">None</span>, <span style=\"color: #00af00; text-decoration-color: #00af00\">41</span>)             │             <span style=\"color: #00af00; text-decoration-color: #00af00\">0</span> │\n",
       "├─────────────────────────────────┼────────────────────────┼───────────────┤\n",
       "│ Dense_Layer_1 (<span style=\"color: #0087ff; text-decoration-color: #0087ff\">Dense</span>)           │ (<span style=\"color: #00d7ff; text-decoration-color: #00d7ff\">None</span>, <span style=\"color: #00af00; text-decoration-color: #00af00\">50</span>)             │         <span style=\"color: #00af00; text-decoration-color: #00af00\">2,100</span> │\n",
       "├─────────────────────────────────┼────────────────────────┼───────────────┤\n",
       "│ Dense_Layer_2 (<span style=\"color: #0087ff; text-decoration-color: #0087ff\">Dense</span>)           │ (<span style=\"color: #00d7ff; text-decoration-color: #00d7ff\">None</span>, <span style=\"color: #00af00; text-decoration-color: #00af00\">30</span>)             │         <span style=\"color: #00af00; text-decoration-color: #00af00\">1,530</span> │\n",
       "├─────────────────────────────────┼────────────────────────┼───────────────┤\n",
       "│ Dense_Layer_3 (<span style=\"color: #0087ff; text-decoration-color: #0087ff\">Dense</span>)           │ (<span style=\"color: #00d7ff; text-decoration-color: #00d7ff\">None</span>, <span style=\"color: #00af00; text-decoration-color: #00af00\">15</span>)             │           <span style=\"color: #00af00; text-decoration-color: #00af00\">465</span> │\n",
       "├─────────────────────────────────┼────────────────────────┼───────────────┤\n",
       "│ Dense_Layer_4 (<span style=\"color: #0087ff; text-decoration-color: #0087ff\">Dense</span>)           │ (<span style=\"color: #00d7ff; text-decoration-color: #00d7ff\">None</span>, <span style=\"color: #00af00; text-decoration-color: #00af00\">5</span>)              │            <span style=\"color: #00af00; text-decoration-color: #00af00\">80</span> │\n",
       "├─────────────────────────────────┼────────────────────────┼───────────────┤\n",
       "│ Output_Layer (<span style=\"color: #0087ff; text-decoration-color: #0087ff\">Dense</span>)            │ (<span style=\"color: #00d7ff; text-decoration-color: #00d7ff\">None</span>, <span style=\"color: #00af00; text-decoration-color: #00af00\">1</span>)              │             <span style=\"color: #00af00; text-decoration-color: #00af00\">6</span> │\n",
       "└─────────────────────────────────┴────────────────────────┴───────────────┘\n",
       "</pre>\n"
      ],
      "text/plain": [
       "┏━━━━━━━━━━━━━━━━━━━━━━━━━━━━━━━━━┳━━━━━━━━━━━━━━━━━━━━━━━━┳━━━━━━━━━━━━━━━┓\n",
       "┃\u001b[1m \u001b[0m\u001b[1mLayer (type)                   \u001b[0m\u001b[1m \u001b[0m┃\u001b[1m \u001b[0m\u001b[1mOutput Shape          \u001b[0m\u001b[1m \u001b[0m┃\u001b[1m \u001b[0m\u001b[1m      Param #\u001b[0m\u001b[1m \u001b[0m┃\n",
       "┡━━━━━━━━━━━━━━━━━━━━━━━━━━━━━━━━━╇━━━━━━━━━━━━━━━━━━━━━━━━╇━━━━━━━━━━━━━━━┩\n",
       "│ Input (\u001b[38;5;33mInputLayer\u001b[0m)              │ (\u001b[38;5;45mNone\u001b[0m, \u001b[38;5;34m41\u001b[0m)             │             \u001b[38;5;34m0\u001b[0m │\n",
       "├─────────────────────────────────┼────────────────────────┼───────────────┤\n",
       "│ Dense_Layer_1 (\u001b[38;5;33mDense\u001b[0m)           │ (\u001b[38;5;45mNone\u001b[0m, \u001b[38;5;34m50\u001b[0m)             │         \u001b[38;5;34m2,100\u001b[0m │\n",
       "├─────────────────────────────────┼────────────────────────┼───────────────┤\n",
       "│ Dense_Layer_2 (\u001b[38;5;33mDense\u001b[0m)           │ (\u001b[38;5;45mNone\u001b[0m, \u001b[38;5;34m30\u001b[0m)             │         \u001b[38;5;34m1,530\u001b[0m │\n",
       "├─────────────────────────────────┼────────────────────────┼───────────────┤\n",
       "│ Dense_Layer_3 (\u001b[38;5;33mDense\u001b[0m)           │ (\u001b[38;5;45mNone\u001b[0m, \u001b[38;5;34m15\u001b[0m)             │           \u001b[38;5;34m465\u001b[0m │\n",
       "├─────────────────────────────────┼────────────────────────┼───────────────┤\n",
       "│ Dense_Layer_4 (\u001b[38;5;33mDense\u001b[0m)           │ (\u001b[38;5;45mNone\u001b[0m, \u001b[38;5;34m5\u001b[0m)              │            \u001b[38;5;34m80\u001b[0m │\n",
       "├─────────────────────────────────┼────────────────────────┼───────────────┤\n",
       "│ Output_Layer (\u001b[38;5;33mDense\u001b[0m)            │ (\u001b[38;5;45mNone\u001b[0m, \u001b[38;5;34m1\u001b[0m)              │             \u001b[38;5;34m6\u001b[0m │\n",
       "└─────────────────────────────────┴────────────────────────┴───────────────┘\n"
      ]
     },
     "metadata": {},
     "output_type": "display_data"
    },
    {
     "data": {
      "text/html": [
       "<pre style=\"white-space:pre;overflow-x:auto;line-height:normal;font-family:Menlo,'DejaVu Sans Mono',consolas,'Courier New',monospace\"><span style=\"font-weight: bold\"> Total params: </span><span style=\"color: #00af00; text-decoration-color: #00af00\">4,181</span> (16.33 KB)\n",
       "</pre>\n"
      ],
      "text/plain": [
       "\u001b[1m Total params: \u001b[0m\u001b[38;5;34m4,181\u001b[0m (16.33 KB)\n"
      ]
     },
     "metadata": {},
     "output_type": "display_data"
    },
    {
     "data": {
      "text/html": [
       "<pre style=\"white-space:pre;overflow-x:auto;line-height:normal;font-family:Menlo,'DejaVu Sans Mono',consolas,'Courier New',monospace\"><span style=\"font-weight: bold\"> Trainable params: </span><span style=\"color: #00af00; text-decoration-color: #00af00\">4,181</span> (16.33 KB)\n",
       "</pre>\n"
      ],
      "text/plain": [
       "\u001b[1m Trainable params: \u001b[0m\u001b[38;5;34m4,181\u001b[0m (16.33 KB)\n"
      ]
     },
     "metadata": {},
     "output_type": "display_data"
    },
    {
     "data": {
      "text/html": [
       "<pre style=\"white-space:pre;overflow-x:auto;line-height:normal;font-family:Menlo,'DejaVu Sans Mono',consolas,'Courier New',monospace\"><span style=\"font-weight: bold\"> Non-trainable params: </span><span style=\"color: #00af00; text-decoration-color: #00af00\">0</span> (0.00 B)\n",
       "</pre>\n"
      ],
      "text/plain": [
       "\u001b[1m Non-trainable params: \u001b[0m\u001b[38;5;34m0\u001b[0m (0.00 B)\n"
      ]
     },
     "metadata": {},
     "output_type": "display_data"
    }
   ],
   "source": [
    "from tensorflow.keras.models import Model\n",
    "from tensorflow.keras.layers import Input, Dense\n",
    "\n",
    "# Define input layer\n",
    "input_layer = Input(shape=(41,), name=\"Input\")\n",
    "\n",
    "# First hidden layer\n",
    "dense1 = Dense(50, activation=\"tanh\", name=\"Dense_Layer_1\")(input_layer)\n",
    "\n",
    "# Second hidden layer\n",
    "dense2 = Dense(30, activation=\"tanh\", name=\"Dense_Layer_2\")(dense1)\n",
    "\n",
    "# Third hidden layer\n",
    "dense3 = Dense(15, activation=\"tanh\", name=\"Dense_Layer_3\")(dense2)\n",
    "\n",
    "# Third hidden layer\n",
    "dense4 = Dense(5, activation=\"relu\", name=\"Dense_Layer_4\")(dense3)\n",
    "\n",
    "# Output layer\n",
    "output_layer = Dense(1, activation=\"sigmoid\", name=\"Output_Layer\")(dense4)\n",
    "\n",
    "# Putting it all together\n",
    "network = Model(inputs=[input_layer], outputs=[output_layer])\n",
    "\n",
    "# Summary of the Artificial Neural Network\n",
    "network.summary()\n"
   ]
  },
  {
   "cell_type": "code",
   "execution_count": 14,
   "id": "3a6debe8-93cf-47e4-b922-ae6d0cf2b397",
   "metadata": {},
   "outputs": [
    {
     "data": {
      "text/html": [
       "<pre style=\"white-space:pre;overflow-x:auto;line-height:normal;font-family:Menlo,'DejaVu Sans Mono',consolas,'Courier New',monospace\"><span style=\"font-weight: bold\">Model: \"functional_1\"</span>\n",
       "</pre>\n"
      ],
      "text/plain": [
       "\u001b[1mModel: \"functional_1\"\u001b[0m\n"
      ]
     },
     "metadata": {},
     "output_type": "display_data"
    },
    {
     "data": {
      "text/html": [
       "<pre style=\"white-space:pre;overflow-x:auto;line-height:normal;font-family:Menlo,'DejaVu Sans Mono',consolas,'Courier New',monospace\">┏━━━━━━━━━━━━━━━━━━━━━━━━━━━━━━━━━┳━━━━━━━━━━━━━━━━━━━━━━━━┳━━━━━━━━━━━━━━━┓\n",
       "┃<span style=\"font-weight: bold\"> Layer (type)                    </span>┃<span style=\"font-weight: bold\"> Output Shape           </span>┃<span style=\"font-weight: bold\">       Param # </span>┃\n",
       "┡━━━━━━━━━━━━━━━━━━━━━━━━━━━━━━━━━╇━━━━━━━━━━━━━━━━━━━━━━━━╇━━━━━━━━━━━━━━━┩\n",
       "│ Input (<span style=\"color: #0087ff; text-decoration-color: #0087ff\">InputLayer</span>)              │ (<span style=\"color: #00d7ff; text-decoration-color: #00d7ff\">None</span>, <span style=\"color: #00af00; text-decoration-color: #00af00\">41</span>)             │             <span style=\"color: #00af00; text-decoration-color: #00af00\">0</span> │\n",
       "├─────────────────────────────────┼────────────────────────┼───────────────┤\n",
       "│ Dense_Layer_1 (<span style=\"color: #0087ff; text-decoration-color: #0087ff\">Dense</span>)           │ (<span style=\"color: #00d7ff; text-decoration-color: #00d7ff\">None</span>, <span style=\"color: #00af00; text-decoration-color: #00af00\">50</span>)             │         <span style=\"color: #00af00; text-decoration-color: #00af00\">2,100</span> │\n",
       "├─────────────────────────────────┼────────────────────────┼───────────────┤\n",
       "│ Dense_Layer_2 (<span style=\"color: #0087ff; text-decoration-color: #0087ff\">Dense</span>)           │ (<span style=\"color: #00d7ff; text-decoration-color: #00d7ff\">None</span>, <span style=\"color: #00af00; text-decoration-color: #00af00\">30</span>)             │         <span style=\"color: #00af00; text-decoration-color: #00af00\">1,530</span> │\n",
       "├─────────────────────────────────┼────────────────────────┼───────────────┤\n",
       "│ Dense_Layer_3 (<span style=\"color: #0087ff; text-decoration-color: #0087ff\">Dense</span>)           │ (<span style=\"color: #00d7ff; text-decoration-color: #00d7ff\">None</span>, <span style=\"color: #00af00; text-decoration-color: #00af00\">15</span>)             │           <span style=\"color: #00af00; text-decoration-color: #00af00\">465</span> │\n",
       "├─────────────────────────────────┼────────────────────────┼───────────────┤\n",
       "│ Dense_Layer_4 (<span style=\"color: #0087ff; text-decoration-color: #0087ff\">Dense</span>)           │ (<span style=\"color: #00d7ff; text-decoration-color: #00d7ff\">None</span>, <span style=\"color: #00af00; text-decoration-color: #00af00\">5</span>)              │            <span style=\"color: #00af00; text-decoration-color: #00af00\">80</span> │\n",
       "├─────────────────────────────────┼────────────────────────┼───────────────┤\n",
       "│ Output_Layer (<span style=\"color: #0087ff; text-decoration-color: #0087ff\">Dense</span>)            │ (<span style=\"color: #00d7ff; text-decoration-color: #00d7ff\">None</span>, <span style=\"color: #00af00; text-decoration-color: #00af00\">1</span>)              │             <span style=\"color: #00af00; text-decoration-color: #00af00\">6</span> │\n",
       "└─────────────────────────────────┴────────────────────────┴───────────────┘\n",
       "</pre>\n"
      ],
      "text/plain": [
       "┏━━━━━━━━━━━━━━━━━━━━━━━━━━━━━━━━━┳━━━━━━━━━━━━━━━━━━━━━━━━┳━━━━━━━━━━━━━━━┓\n",
       "┃\u001b[1m \u001b[0m\u001b[1mLayer (type)                   \u001b[0m\u001b[1m \u001b[0m┃\u001b[1m \u001b[0m\u001b[1mOutput Shape          \u001b[0m\u001b[1m \u001b[0m┃\u001b[1m \u001b[0m\u001b[1m      Param #\u001b[0m\u001b[1m \u001b[0m┃\n",
       "┡━━━━━━━━━━━━━━━━━━━━━━━━━━━━━━━━━╇━━━━━━━━━━━━━━━━━━━━━━━━╇━━━━━━━━━━━━━━━┩\n",
       "│ Input (\u001b[38;5;33mInputLayer\u001b[0m)              │ (\u001b[38;5;45mNone\u001b[0m, \u001b[38;5;34m41\u001b[0m)             │             \u001b[38;5;34m0\u001b[0m │\n",
       "├─────────────────────────────────┼────────────────────────┼───────────────┤\n",
       "│ Dense_Layer_1 (\u001b[38;5;33mDense\u001b[0m)           │ (\u001b[38;5;45mNone\u001b[0m, \u001b[38;5;34m50\u001b[0m)             │         \u001b[38;5;34m2,100\u001b[0m │\n",
       "├─────────────────────────────────┼────────────────────────┼───────────────┤\n",
       "│ Dense_Layer_2 (\u001b[38;5;33mDense\u001b[0m)           │ (\u001b[38;5;45mNone\u001b[0m, \u001b[38;5;34m30\u001b[0m)             │         \u001b[38;5;34m1,530\u001b[0m │\n",
       "├─────────────────────────────────┼────────────────────────┼───────────────┤\n",
       "│ Dense_Layer_3 (\u001b[38;5;33mDense\u001b[0m)           │ (\u001b[38;5;45mNone\u001b[0m, \u001b[38;5;34m15\u001b[0m)             │           \u001b[38;5;34m465\u001b[0m │\n",
       "├─────────────────────────────────┼────────────────────────┼───────────────┤\n",
       "│ Dense_Layer_4 (\u001b[38;5;33mDense\u001b[0m)           │ (\u001b[38;5;45mNone\u001b[0m, \u001b[38;5;34m5\u001b[0m)              │            \u001b[38;5;34m80\u001b[0m │\n",
       "├─────────────────────────────────┼────────────────────────┼───────────────┤\n",
       "│ Output_Layer (\u001b[38;5;33mDense\u001b[0m)            │ (\u001b[38;5;45mNone\u001b[0m, \u001b[38;5;34m1\u001b[0m)              │             \u001b[38;5;34m6\u001b[0m │\n",
       "└─────────────────────────────────┴────────────────────────┴───────────────┘\n"
      ]
     },
     "metadata": {},
     "output_type": "display_data"
    },
    {
     "data": {
      "text/html": [
       "<pre style=\"white-space:pre;overflow-x:auto;line-height:normal;font-family:Menlo,'DejaVu Sans Mono',consolas,'Courier New',monospace\"><span style=\"font-weight: bold\"> Total params: </span><span style=\"color: #00af00; text-decoration-color: #00af00\">4,181</span> (16.33 KB)\n",
       "</pre>\n"
      ],
      "text/plain": [
       "\u001b[1m Total params: \u001b[0m\u001b[38;5;34m4,181\u001b[0m (16.33 KB)\n"
      ]
     },
     "metadata": {},
     "output_type": "display_data"
    },
    {
     "data": {
      "text/html": [
       "<pre style=\"white-space:pre;overflow-x:auto;line-height:normal;font-family:Menlo,'DejaVu Sans Mono',consolas,'Courier New',monospace\"><span style=\"font-weight: bold\"> Trainable params: </span><span style=\"color: #00af00; text-decoration-color: #00af00\">4,181</span> (16.33 KB)\n",
       "</pre>\n"
      ],
      "text/plain": [
       "\u001b[1m Trainable params: \u001b[0m\u001b[38;5;34m4,181\u001b[0m (16.33 KB)\n"
      ]
     },
     "metadata": {},
     "output_type": "display_data"
    },
    {
     "data": {
      "text/html": [
       "<pre style=\"white-space:pre;overflow-x:auto;line-height:normal;font-family:Menlo,'DejaVu Sans Mono',consolas,'Courier New',monospace\"><span style=\"font-weight: bold\"> Non-trainable params: </span><span style=\"color: #00af00; text-decoration-color: #00af00\">0</span> (0.00 B)\n",
       "</pre>\n"
      ],
      "text/plain": [
       "\u001b[1m Non-trainable params: \u001b[0m\u001b[38;5;34m0\u001b[0m (0.00 B)\n"
      ]
     },
     "metadata": {},
     "output_type": "display_data"
    }
   ],
   "source": [
    "# ######################################################### #\n",
    "#            LOSS FUNCTION & OPTIMIZER FOR ANN\n",
    "# ######################################################### #\n",
    "network.compile(\n",
    "    optimizer=Adam(learning_rate=0.001),  # Learning rate controls how fast your network converges to a *potential* solution\n",
    "    loss=[tf.keras.losses.binary_crossentropy],  # Loss Function (Target Function) --> Choice of loss function is CRITICAL to performance!\n",
    "    metrics=['accuracy']\n",
    ")\n",
    "\n",
    "network.summary()\n"
   ]
  },
  {
   "cell_type": "code",
   "execution_count": 116,
   "id": "0f8c8c7c-1256-4577-bc28-a8906ef8a014",
   "metadata": {},
   "outputs": [
    {
     "data": {
      "text/plain": [
       "1004691"
      ]
     },
     "execution_count": 116,
     "metadata": {},
     "output_type": "execute_result"
    }
   ],
   "source": [
    "\n",
    "len(y_train)  # How much training data"
   ]
  },
  {
   "cell_type": "code",
   "execution_count": 19,
   "id": "84d616b9-364b-485d-8bfb-07b998a6f8be",
   "metadata": {},
   "outputs": [
    {
     "name": "stdout",
     "output_type": "stream",
     "text": [
      "Epoch 1/15\n",
      "\u001b[1m31397/31397\u001b[0m \u001b[32m━━━━━━━━━━━━━━━━━━━━\u001b[0m\u001b[37m\u001b[0m \u001b[1m27s\u001b[0m 863us/step - accuracy: 0.7867 - loss: 0.4757 - val_accuracy: 0.7861 - val_loss: 0.4764\n",
      "Epoch 2/15\n",
      "\u001b[1m31397/31397\u001b[0m \u001b[32m━━━━━━━━━━━━━━━━━━━━\u001b[0m\u001b[37m\u001b[0m \u001b[1m27s\u001b[0m 851us/step - accuracy: 0.7867 - loss: 0.4751 - val_accuracy: 0.7869 - val_loss: 0.4760\n",
      "Epoch 3/15\n",
      "\u001b[1m31397/31397\u001b[0m \u001b[32m━━━━━━━━━━━━━━━━━━━━\u001b[0m\u001b[37m\u001b[0m \u001b[1m29s\u001b[0m 925us/step - accuracy: 0.7867 - loss: 0.4747 - val_accuracy: 0.7866 - val_loss: 0.4762\n",
      "Epoch 4/15\n",
      "\u001b[1m31397/31397\u001b[0m \u001b[32m━━━━━━━━━━━━━━━━━━━━\u001b[0m\u001b[37m\u001b[0m \u001b[1m27s\u001b[0m 863us/step - accuracy: 0.7874 - loss: 0.4747 - val_accuracy: 0.7862 - val_loss: 0.4765\n",
      "Epoch 5/15\n",
      "\u001b[1m31397/31397\u001b[0m \u001b[32m━━━━━━━━━━━━━━━━━━━━\u001b[0m\u001b[37m\u001b[0m \u001b[1m30s\u001b[0m 952us/step - accuracy: 0.7869 - loss: 0.4749 - val_accuracy: 0.7869 - val_loss: 0.4751\n",
      "Epoch 6/15\n",
      "\u001b[1m31397/31397\u001b[0m \u001b[32m━━━━━━━━━━━━━━━━━━━━\u001b[0m\u001b[37m\u001b[0m \u001b[1m32s\u001b[0m 1ms/step - accuracy: 0.7881 - loss: 0.4733 - val_accuracy: 0.7867 - val_loss: 0.4754\n",
      "Epoch 7/15\n",
      "\u001b[1m31397/31397\u001b[0m \u001b[32m━━━━━━━━━━━━━━━━━━━━\u001b[0m\u001b[37m\u001b[0m \u001b[1m33s\u001b[0m 1ms/step - accuracy: 0.7878 - loss: 0.4738 - val_accuracy: 0.7866 - val_loss: 0.4755\n",
      "Epoch 8/15\n",
      "\u001b[1m31397/31397\u001b[0m \u001b[32m━━━━━━━━━━━━━━━━━━━━\u001b[0m\u001b[37m\u001b[0m \u001b[1m32s\u001b[0m 1ms/step - accuracy: 0.7872 - loss: 0.4741 - val_accuracy: 0.7871 - val_loss: 0.4760\n",
      "Epoch 9/15\n",
      "\u001b[1m31397/31397\u001b[0m \u001b[32m━━━━━━━━━━━━━━━━━━━━\u001b[0m\u001b[37m\u001b[0m \u001b[1m32s\u001b[0m 1ms/step - accuracy: 0.7871 - loss: 0.4743 - val_accuracy: 0.7872 - val_loss: 0.4751\n",
      "Epoch 10/15\n",
      "\u001b[1m31397/31397\u001b[0m \u001b[32m━━━━━━━━━━━━━━━━━━━━\u001b[0m\u001b[37m\u001b[0m \u001b[1m32s\u001b[0m 1ms/step - accuracy: 0.7885 - loss: 0.4730 - val_accuracy: 0.7865 - val_loss: 0.4760\n",
      "Epoch 11/15\n",
      "\u001b[1m31397/31397\u001b[0m \u001b[32m━━━━━━━━━━━━━━━━━━━━\u001b[0m\u001b[37m\u001b[0m \u001b[1m32s\u001b[0m 1ms/step - accuracy: 0.7889 - loss: 0.4719 - val_accuracy: 0.7872 - val_loss: 0.4755\n",
      "Epoch 12/15\n",
      "\u001b[1m31397/31397\u001b[0m \u001b[32m━━━━━━━━━━━━━━━━━━━━\u001b[0m\u001b[37m\u001b[0m \u001b[1m27s\u001b[0m 863us/step - accuracy: 0.7886 - loss: 0.4723 - val_accuracy: 0.7873 - val_loss: 0.4755\n",
      "Epoch 13/15\n",
      "\u001b[1m31397/31397\u001b[0m \u001b[32m━━━━━━━━━━━━━━━━━━━━\u001b[0m\u001b[37m\u001b[0m \u001b[1m28s\u001b[0m 888us/step - accuracy: 0.7887 - loss: 0.4721 - val_accuracy: 0.7874 - val_loss: 0.4758\n",
      "Epoch 14/15\n",
      "\u001b[1m31397/31397\u001b[0m \u001b[32m━━━━━━━━━━━━━━━━━━━━\u001b[0m\u001b[37m\u001b[0m \u001b[1m27s\u001b[0m 861us/step - accuracy: 0.7892 - loss: 0.4706 - val_accuracy: 0.7872 - val_loss: 0.4751\n",
      "Epoch 15/15\n",
      "\u001b[1m31397/31397\u001b[0m \u001b[32m━━━━━━━━━━━━━━━━━━━━\u001b[0m\u001b[37m\u001b[0m \u001b[1m27s\u001b[0m 842us/step - accuracy: 0.7892 - loss: 0.4720 - val_accuracy: 0.7869 - val_loss: 0.4769\n"
     ]
    }
   ],
   "source": [
    "# Train the Network !!!\n",
    "training_history = network.fit(\n",
    "    X_train, y_train, # Specify set of predictors and target feature\n",
    "    validation_data=(X_test, y_test),  # Validate our training on data it's never seen before\n",
    "    batch_size=32,  # 1500-observations creating a batch (MINI-BATCH GRADIENT DESCENT)\n",
    "    epochs=15,  # 100-complete training cycles (epochs)\n",
    "    validation_split=0.1,\n",
    "    verbose=1,  # See the training progress\n",
    ")"
   ]
  },
  {
   "cell_type": "code",
   "execution_count": 20,
   "id": "f7b3ead7-d569-4ed7-93f9-109de4ac0e93",
   "metadata": {},
   "outputs": [
    {
     "data": {
      "text/plain": [
       "Text(0, 0.5, 'Average Error')"
      ]
     },
     "execution_count": 20,
     "metadata": {},
     "output_type": "execute_result"
    },
    {
     "data": {
      "image/png": "[encoded data removed]",
      "text/plain": [
       "<Figure size 1400x600 with 1 Axes>"
      ]
     },
     "metadata": {},
     "output_type": "display_data"
    }
   ],
   "source": [
    "# LEARNING CURVES\n",
    "training_dict = training_history.history\n",
    "\n",
    "# LOSS & VALIDATION CURVES\n",
    "loss_curve = training_dict[\"loss\"]\n",
    "val_loss_curve = training_dict[\"val_loss\"]\n",
    "epochs = range(0, len(loss_curve))  # How many training iterations (cycles) the Network was trained on\n",
    "\n",
    "import matplotlib.pyplot as plt\n",
    "\n",
    "fig, ax = plt.subplots(figsize=(14, 6))\n",
    "# Training Loss Curve\n",
    "ax.plot(epochs, loss_curve, zorder=0, c=\"blue\", lw=0.5)\n",
    "# Validation Loss Curve\n",
    "ax.plot(epochs, val_loss_curve, zorder=1, c='red', lw=0.2)\n",
    "\n",
    "ax.set_title(\"Learning Curves: Training Loss & Validation Loss\")\n",
    "ax.set_xlabel(\"Number of Epochs\")\n",
    "ax.set_ylabel(\"Average Error\")"
   ]
  },
  {
   "cell_type": "code",
   "execution_count": null,
   "id": "511f1c50",
   "metadata": {},
   "outputs": [],
   "source": []
  }
 ],
 "metadata": {
  "kernelspec": {
   "display_name": "Python 3 (ipykernel)",
   "language": "python",
   "name": "python3"
  },
  "language_info": {
   "codemirror_mode": {
    "name": "ipython",
    "version": 3
   },
   "file_extension": ".py",
   "mimetype": "text/x-python",
   "name": "python",
   "nbconvert_exporter": "python",
   "pygments_lexer": "ipython3",
   "version": "3.12.1"
  }
 },
 "nbformat": 4,
 "nbformat_minor": 5
}
