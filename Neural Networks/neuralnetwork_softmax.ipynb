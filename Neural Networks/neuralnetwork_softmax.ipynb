{
 "cells": [
  {
   "cell_type": "code",
   "execution_count": 1,
   "id": "a0f24a17-a544-4b19-9cb0-1aee3aeaeb87",
   "metadata": {},
   "outputs": [],
   "source": [
    "# !pip install tensorflow"
   ]
  },
  {
   "cell_type": "code",
   "execution_count": 2,
   "id": "74fb6d48-620d-4b76-9017-c0bfd18562dd",
   "metadata": {},
   "outputs": [],
   "source": [
    "import tensorflow as tf\n",
    "import pandas as pd\n",
    "\n",
    "# Import Layers, Optimizers, and the Model Creation Function:\n",
    "from tensorflow.keras.layers import Input, Dense\n",
    "from tensorflow.keras.optimizers import Adam  # Optimize training and weight calculation\n",
    "from tensorflow.keras.models import Model  # Combine our layers and for the Neural Network"
   ]
  },
  {
   "cell_type": "code",
   "execution_count": 32,
   "id": "106c2e43",
   "metadata": {},
   "outputs": [
    {
     "data": {
      "text/html": [
       "<div>\n",
       "<style scoped>\n",
       "    .dataframe tbody tr th:only-of-type {\n",
       "        vertical-align: middle;\n",
       "    }\n",
       "\n",
       "    .dataframe tbody tr th {\n",
       "        vertical-align: top;\n",
       "    }\n",
       "\n",
       "    .dataframe thead th {\n",
       "        text-align: right;\n",
       "    }\n",
       "</style>\n",
       "<table border=\"1\" class=\"dataframe\">\n",
       "  <thead>\n",
       "    <tr style=\"text-align: right;\">\n",
       "      <th></th>\n",
       "      <th>AIRLINE</th>\n",
       "      <th>ORIGIN</th>\n",
       "      <th>ORIGIN_CITY</th>\n",
       "      <th>DEST</th>\n",
       "      <th>DEST_CITY</th>\n",
       "      <th>DEP_DELAY</th>\n",
       "      <th>CRS_ARR_TIME</th>\n",
       "      <th>ARR_DELAY</th>\n",
       "      <th>CANCELLED</th>\n",
       "      <th>DIVERTED</th>\n",
       "      <th>...</th>\n",
       "      <th>dest_SNWD</th>\n",
       "      <th>dest_AWND</th>\n",
       "      <th>dest_PRCP</th>\n",
       "      <th>CRS_DEP_Datetime</th>\n",
       "      <th>15_DELAYED</th>\n",
       "      <th>year</th>\n",
       "      <th>month</th>\n",
       "      <th>day</th>\n",
       "      <th>day_of_week</th>\n",
       "      <th>hour</th>\n",
       "    </tr>\n",
       "  </thead>\n",
       "  <tbody>\n",
       "    <tr>\n",
       "      <th>0</th>\n",
       "      <td>Spirit Air Lines</td>\n",
       "      <td>MCO</td>\n",
       "      <td>Orlando, FL</td>\n",
       "      <td>DFW</td>\n",
       "      <td>Dallas/Fort Worth, TX</td>\n",
       "      <td>-2.0</td>\n",
       "      <td>2041</td>\n",
       "      <td>-1.0</td>\n",
       "      <td>0.0</td>\n",
       "      <td>0.0</td>\n",
       "      <td>...</td>\n",
       "      <td>0.0</td>\n",
       "      <td>55.0</td>\n",
       "      <td>8.0</td>\n",
       "      <td>2020-02-23 18:40:00</td>\n",
       "      <td>0</td>\n",
       "      <td>2020</td>\n",
       "      <td>2</td>\n",
       "      <td>23</td>\n",
       "      <td>6</td>\n",
       "      <td>18</td>\n",
       "    </tr>\n",
       "  </tbody>\n",
       "</table>\n",
       "<p>1 rows × 30 columns</p>\n",
       "</div>"
      ],
      "text/plain": [
       "            AIRLINE ORIGIN  ORIGIN_CITY DEST              DEST_CITY  \\\n",
       "0  Spirit Air Lines    MCO  Orlando, FL  DFW  Dallas/Fort Worth, TX   \n",
       "\n",
       "   DEP_DELAY  CRS_ARR_TIME  ARR_DELAY  CANCELLED  DIVERTED  ...  dest_SNWD  \\\n",
       "0       -2.0          2041       -1.0        0.0       0.0  ...        0.0   \n",
       "\n",
       "   dest_AWND  dest_PRCP     CRS_DEP_Datetime  15_DELAYED  year  month  day  \\\n",
       "0       55.0        8.0  2020-02-23 18:40:00           0  2020      2   23   \n",
       "\n",
       "   day_of_week  hour  \n",
       "0            6    18  \n",
       "\n",
       "[1 rows x 30 columns]"
      ]
     },
     "execution_count": 32,
     "metadata": {},
     "output_type": "execute_result"
    }
   ],
   "source": [
    "data = pd.read_csv('C:/Users/migue/Desktop/MachineLearning/prueba/rileys_data.csv')\n",
    "data.head(1)"
   ]
  },
  {
   "cell_type": "code",
   "execution_count": 33,
   "id": "9758ce05",
   "metadata": {},
   "outputs": [
    {
     "name": "stdout",
     "output_type": "stream",
     "text": [
      "99510\n"
     ]
    }
   ],
   "source": [
    "data=data[(data['ORIGIN']=='ATL')]\n",
    "print(len(data))"
   ]
  },
  {
   "cell_type": "code",
   "execution_count": 31,
   "id": "18da2f95",
   "metadata": {},
   "outputs": [
    {
     "name": "stdout",
     "output_type": "stream",
     "text": [
      "Delayed flights:  70336\n"
     ]
    }
   ],
   "source": [
    "print('Delayed flights: ',len(data[data['15_DELAYED']==1]))"
   ]
  },
  {
   "cell_type": "code",
   "execution_count": 5,
   "id": "a401f35e",
   "metadata": {},
   "outputs": [
    {
     "data": {
      "text/plain": [
       "Index(['AIRLINE', 'ORIGIN', 'ORIGIN_CITY', 'DEST', 'DEST_CITY', 'DEP_DELAY',\n",
       "       'CRS_ARR_TIME', 'ARR_DELAY', 'CANCELLED', 'DIVERTED', 'DISTANCE',\n",
       "       'ori_TMIN', 'ori_TMAX', 'ori_SNOW', 'ori_SNWD', 'ori_AWND', 'ori_PRCP',\n",
       "       'dest_TMIN', 'dest_TMAX', 'dest_SNOW', 'dest_SNWD', 'dest_AWND',\n",
       "       'dest_PRCP', 'CRS_DEP_Datetime', '15_DELAYED', 'year', 'month', 'day',\n",
       "       'day_of_week', 'hour'],\n",
       "      dtype='object')"
      ]
     },
     "execution_count": 5,
     "metadata": {},
     "output_type": "execute_result"
    }
   ],
   "source": [
    "data.columns"
   ]
  },
  {
   "cell_type": "code",
   "execution_count": 6,
   "id": "d2828ba9",
   "metadata": {},
   "outputs": [
    {
     "data": {
      "text/plain": [
       "Index(['AIRLINE', 'ORIGIN', 'DEST', 'DISTANCE', 'ori_TMIN', 'ori_TMAX',\n",
       "       'ori_SNOW', 'ori_SNWD', 'ori_AWND', 'ori_PRCP', 'dest_TMIN',\n",
       "       'dest_TMAX', 'dest_SNOW', 'dest_SNWD', 'dest_AWND', 'dest_PRCP',\n",
       "       '15_DELAYED', 'year', 'month', 'day', 'day_of_week', 'hour'],\n",
       "      dtype='object')"
      ]
     },
     "execution_count": 6,
     "metadata": {},
     "output_type": "execute_result"
    }
   ],
   "source": [
    "used_data=data.loc[:,~data.columns.isin(['ORIGIN_CITY', 'DEST_CITY','DEP_DELAY','ARR_DELAY','CANCELLED','DIVERTED','CRS_DEP_Datetime','CRS_ARR_TIME'])].copy()\n",
    "used_data.columns"
   ]
  },
  {
   "cell_type": "code",
   "execution_count": 7,
   "id": "cfc800d0",
   "metadata": {},
   "outputs": [],
   "source": [
    "\n",
    "# Define a function to replace infrequent categories with 'Other'\n",
    "def replace_infrequent_categories(df, categorical_cols, threshold=0.05, other_label='Other'):\n",
    "    for col in categorical_cols:\n",
    "        counts = df[col].value_counts(normalize=True)\n",
    "        infrequent_categories = counts[counts < threshold].index\n",
    "        df[col] = df[col].replace(infrequent_categories, other_label)\n",
    "    return df\n",
    "\n",
    "# Define threshold for infrequent categories (adjust as needed)\n",
    "threshold = 0.035"
   ]
  },
  {
   "cell_type": "code",
   "execution_count": 8,
   "id": "9c856223",
   "metadata": {},
   "outputs": [],
   "source": [
    "X = used_data.drop(['15_DELAYED'], axis=1)\n",
    "y = used_data['15_DELAYED']\n",
    "\n",
    "\n",
    "categorical_cols = ['AIRLINE','ORIGIN','DEST']\n",
    "numeric_cols = [col for col in used_data.columns if col not in categorical_cols]\n",
    "numeric_cols.remove('15_DELAYED')\n",
    "# Replace infrequent categories with 'Other'\n",
    "df_processed = replace_infrequent_categories(X, categorical_cols, threshold)"
   ]
  },
  {
   "cell_type": "code",
   "execution_count": 9,
   "id": "d4b4a3be",
   "metadata": {},
   "outputs": [
    {
     "name": "stdout",
     "output_type": "stream",
     "text": [
      "airline   17\n",
      "origin   221\n",
      "dest   220\n",
      "airline   11\n",
      "origin   6\n",
      "dest   6\n"
     ]
    }
   ],
   "source": [
    "print('airline  ',len(used_data['AIRLINE'].unique()))\n",
    "print('origin  ',len(used_data['ORIGIN'].unique()))\n",
    "print('dest  ',len(used_data['DEST'].unique()))\n",
    "print('airline  ',len(df_processed['AIRLINE'].unique()))\n",
    "print('origin  ',len(df_processed['ORIGIN'].unique()))\n",
    "print('dest  ',len(df_processed['DEST'].unique()))"
   ]
  },
  {
   "cell_type": "code",
   "execution_count": 10,
   "id": "328c86f4",
   "metadata": {},
   "outputs": [],
   "source": [
    "from sklearn.preprocessing import OneHotEncoder\n",
    "import pandas as pd\n",
    "\n",
    "# Inicializar el codificador OneHotEncoder sin matriz dispersa\n",
    "\n",
    "encoder = OneHotEncoder(sparse_output=False)\n",
    "\n",
    "# Ajustar y transformar los datos categóricos usando OneHotEncoder\n",
    "encoded_data = encoder.fit_transform(df_processed[categorical_cols])\n",
    "\n",
    "# Crear un DataFrame con las columnas codificadas\n",
    "encoded_df = pd.DataFrame(encoded_data, columns=encoder.get_feature_names_out(categorical_cols))\n",
    "\n",
    "\n",
    "\n",
    "# Concatenar el DataFrame original con el DataFrame codificado\n",
    "encoded_data = pd.concat([df_processed.reset_index(drop=True), encoded_df], axis=1)\n",
    "\n",
    "# Eliminar las columnas originales categóricas del DataFrame original\n",
    "encoded_data.drop(categorical_cols, axis=1, inplace=True)\n"
   ]
  },
  {
   "cell_type": "code",
   "execution_count": 11,
   "id": "4eb6f34e",
   "metadata": {},
   "outputs": [
    {
     "data": {
      "text/html": [
       "<div>\n",
       "<style scoped>\n",
       "    .dataframe tbody tr th:only-of-type {\n",
       "        vertical-align: middle;\n",
       "    }\n",
       "\n",
       "    .dataframe tbody tr th {\n",
       "        vertical-align: top;\n",
       "    }\n",
       "\n",
       "    .dataframe thead th {\n",
       "        text-align: right;\n",
       "    }\n",
       "</style>\n",
       "<table border=\"1\" class=\"dataframe\">\n",
       "  <thead>\n",
       "    <tr style=\"text-align: right;\">\n",
       "      <th></th>\n",
       "      <th>DISTANCE</th>\n",
       "      <th>ori_TMIN</th>\n",
       "      <th>ori_TMAX</th>\n",
       "      <th>ori_SNOW</th>\n",
       "      <th>ori_SNWD</th>\n",
       "      <th>ori_AWND</th>\n",
       "      <th>ori_PRCP</th>\n",
       "      <th>dest_TMIN</th>\n",
       "      <th>dest_TMAX</th>\n",
       "      <th>dest_SNOW</th>\n",
       "      <th>...</th>\n",
       "      <th>ORIGIN_DEN</th>\n",
       "      <th>ORIGIN_DFW</th>\n",
       "      <th>ORIGIN_ORD</th>\n",
       "      <th>ORIGIN_Other</th>\n",
       "      <th>DEST_ATL</th>\n",
       "      <th>DEST_CLT</th>\n",
       "      <th>DEST_DEN</th>\n",
       "      <th>DEST_DFW</th>\n",
       "      <th>DEST_ORD</th>\n",
       "      <th>DEST_Other</th>\n",
       "    </tr>\n",
       "  </thead>\n",
       "  <tbody>\n",
       "    <tr>\n",
       "      <th>0</th>\n",
       "      <td>0.452015</td>\n",
       "      <td>0.043486</td>\n",
       "      <td>0.323359</td>\n",
       "      <td>-0.103983</td>\n",
       "      <td>-0.14447</td>\n",
       "      <td>-0.288833</td>\n",
       "      <td>-0.311327</td>\n",
       "      <td>-0.347657</td>\n",
       "      <td>-0.623824</td>\n",
       "      <td>-0.103003</td>\n",
       "      <td>...</td>\n",
       "      <td>0.0</td>\n",
       "      <td>0.0</td>\n",
       "      <td>0.0</td>\n",
       "      <td>1.0</td>\n",
       "      <td>0.0</td>\n",
       "      <td>0.0</td>\n",
       "      <td>0.0</td>\n",
       "      <td>1.0</td>\n",
       "      <td>0.0</td>\n",
       "      <td>0.0</td>\n",
       "    </tr>\n",
       "  </tbody>\n",
       "</table>\n",
       "<p>1 rows × 41 columns</p>\n",
       "</div>"
      ],
      "text/plain": [
       "   DISTANCE  ori_TMIN  ori_TMAX  ori_SNOW  ori_SNWD  ori_AWND  ori_PRCP  \\\n",
       "0  0.452015  0.043486  0.323359 -0.103983  -0.14447 -0.288833 -0.311327   \n",
       "\n",
       "   dest_TMIN  dest_TMAX  dest_SNOW  ...  ORIGIN_DEN  ORIGIN_DFW  ORIGIN_ORD  \\\n",
       "0  -0.347657  -0.623824  -0.103003  ...         0.0         0.0         0.0   \n",
       "\n",
       "   ORIGIN_Other  DEST_ATL  DEST_CLT  DEST_DEN  DEST_DFW  DEST_ORD  DEST_Other  \n",
       "0           1.0       0.0       0.0       0.0       1.0       0.0         0.0  \n",
       "\n",
       "[1 rows x 41 columns]"
      ]
     },
     "execution_count": 11,
     "metadata": {},
     "output_type": "execute_result"
    }
   ],
   "source": [
    "from sklearn.preprocessing import StandardScaler\n",
    "\n",
    "scaler = StandardScaler()\n",
    "encoded_data[numeric_cols] = scaler.fit_transform(encoded_data[numeric_cols])\n",
    "encoded_data.head(1)\n"
   ]
  },
  {
   "cell_type": "code",
   "execution_count": 12,
   "id": "63fa74fb",
   "metadata": {},
   "outputs": [],
   "source": [
    "from sklearn.model_selection import train_test_split\n",
    "\n",
    "X = encoded_data # Asegúrate de reemplazar 'TARGET_COLUMN' con el nombre de tu columna objetivo\n",
    "X_train, X_test, y_train, y_test = train_test_split(X, y, test_size=0.2, random_state=777)"
   ]
  },
  {
   "cell_type": "code",
   "execution_count": 16,
   "id": "9be3c0f0-06bd-44a5-abcd-998557fd5d6a",
   "metadata": {},
   "outputs": [
    {
     "name": "stderr",
     "output_type": "stream",
     "text": [
      "c:\\Users\\migue\\Desktop\\MachineLearning\\prueba\\venv\\Lib\\site-packages\\keras\\src\\layers\\core\\dense.py:87: UserWarning: Do not pass an `input_shape`/`input_dim` argument to a layer. When using Sequential models, prefer using an `Input(shape)` object as the first layer in the model instead.\n",
      "  super().__init__(activity_regularizer=activity_regularizer, **kwargs)\n"
     ]
    },
    {
     "name": "stdout",
     "output_type": "stream",
     "text": [
      "Epoch 1/30\n"
     ]
    },
    {
     "name": "stderr",
     "output_type": "stream",
     "text": [
      "c:\\Users\\migue\\Desktop\\MachineLearning\\prueba\\venv\\Lib\\site-packages\\keras\\src\\ops\\nn.py:545: UserWarning: You are using a softmax over axis -1 of a tensor of shape (None, 1). This axis has size 1. The softmax operation will always return the value 1, which is likely not what you intended. Did you mean to use a sigmoid instead?\n",
      "  warnings.warn(\n"
     ]
    },
    {
     "name": "stdout",
     "output_type": "stream",
     "text": [
      "\u001b[1m31379/31397\u001b[0m \u001b[32m━━━━━━━━━━━━━━━━━━━\u001b[0m\u001b[37m━\u001b[0m \u001b[1m0s\u001b[0m 1ms/step - accuracy: 0.2194 - loss: 0.4919 - recall_3: 1.0000"
     ]
    },
    {
     "name": "stderr",
     "output_type": "stream",
     "text": [
      "c:\\Users\\migue\\Desktop\\MachineLearning\\prueba\\venv\\Lib\\site-packages\\keras\\src\\ops\\nn.py:545: UserWarning: You are using a softmax over axis -1 of a tensor of shape (None, 1). This axis has size 1. The softmax operation will always return the value 1, which is likely not what you intended. Did you mean to use a sigmoid instead?\n",
      "  warnings.warn(\n"
     ]
    },
    {
     "name": "stdout",
     "output_type": "stream",
     "text": [
      "\u001b[1m31397/31397\u001b[0m \u001b[32m━━━━━━━━━━━━━━━━━━━━\u001b[0m\u001b[37m\u001b[0m \u001b[1m42s\u001b[0m 1ms/step - accuracy: 0.2194 - loss: 0.4919 - recall_3: 1.0000 - val_accuracy: 0.2194 - val_loss: 0.4837 - val_recall_3: 1.0000\n",
      "Epoch 2/30\n",
      "\u001b[1m31397/31397\u001b[0m \u001b[32m━━━━━━━━━━━━━━━━━━━━\u001b[0m\u001b[37m\u001b[0m \u001b[1m38s\u001b[0m 1ms/step - accuracy: 0.2196 - loss: 0.4807 - recall_3: 1.0000 - val_accuracy: 0.2194 - val_loss: 0.4789 - val_recall_3: 1.0000\n",
      "Epoch 3/30\n",
      "\u001b[1m31397/31397\u001b[0m \u001b[32m━━━━━━━━━━━━━━━━━━━━\u001b[0m\u001b[37m\u001b[0m \u001b[1m36s\u001b[0m 1ms/step - accuracy: 0.2202 - loss: 0.4790 - recall_3: 1.0000 - val_accuracy: 0.2194 - val_loss: 0.4772 - val_recall_3: 1.0000\n",
      "Epoch 4/30\n",
      "\u001b[1m31397/31397\u001b[0m \u001b[32m━━━━━━━━━━━━━━━━━━━━\u001b[0m\u001b[37m\u001b[0m \u001b[1m35s\u001b[0m 1ms/step - accuracy: 0.2198 - loss: 0.4774 - recall_3: 1.0000 - val_accuracy: 0.2194 - val_loss: 0.4763 - val_recall_3: 1.0000\n",
      "Epoch 5/30\n",
      "\u001b[1m31397/31397\u001b[0m \u001b[32m━━━━━━━━━━━━━━━━━━━━\u001b[0m\u001b[37m\u001b[0m \u001b[1m35s\u001b[0m 1ms/step - accuracy: 0.2199 - loss: 0.4766 - recall_3: 1.0000 - val_accuracy: 0.2194 - val_loss: 0.4766 - val_recall_3: 1.0000\n",
      "Epoch 6/30\n",
      "\u001b[1m31397/31397\u001b[0m \u001b[32m━━━━━━━━━━━━━━━━━━━━\u001b[0m\u001b[37m\u001b[0m \u001b[1m31s\u001b[0m 993us/step - accuracy: 0.2202 - loss: 0.4761 - recall_3: 1.0000 - val_accuracy: 0.2194 - val_loss: 0.4754 - val_recall_3: 1.0000\n",
      "Epoch 7/30\n",
      "\u001b[1m31397/31397\u001b[0m \u001b[32m━━━━━━━━━━━━━━━━━━━━\u001b[0m\u001b[37m\u001b[0m \u001b[1m30s\u001b[0m 961us/step - accuracy: 0.2202 - loss: 0.4758 - recall_3: 1.0000 - val_accuracy: 0.2194 - val_loss: 0.4758 - val_recall_3: 1.0000\n",
      "Epoch 8/30\n",
      "\u001b[1m31397/31397\u001b[0m \u001b[32m━━━━━━━━━━━━━━━━━━━━\u001b[0m\u001b[37m\u001b[0m \u001b[1m31s\u001b[0m 981us/step - accuracy: 0.2191 - loss: 0.4742 - recall_3: 1.0000 - val_accuracy: 0.2194 - val_loss: 0.4749 - val_recall_3: 1.0000\n",
      "Epoch 9/30\n",
      "\u001b[1m31397/31397\u001b[0m \u001b[32m━━━━━━━━━━━━━━━━━━━━\u001b[0m\u001b[37m\u001b[0m \u001b[1m34s\u001b[0m 1ms/step - accuracy: 0.2197 - loss: 0.4744 - recall_3: 1.0000 - val_accuracy: 0.2194 - val_loss: 0.4752 - val_recall_3: 1.0000\n",
      "Epoch 10/30\n",
      "\u001b[1m31397/31397\u001b[0m \u001b[32m━━━━━━━━━━━━━━━━━━━━\u001b[0m\u001b[37m\u001b[0m \u001b[1m32s\u001b[0m 1ms/step - accuracy: 0.2199 - loss: 0.4746 - recall_3: 1.0000 - val_accuracy: 0.2194 - val_loss: 0.4743 - val_recall_3: 1.0000\n",
      "Epoch 11/30\n",
      "\u001b[1m31397/31397\u001b[0m \u001b[32m━━━━━━━━━━━━━━━━━━━━\u001b[0m\u001b[37m\u001b[0m \u001b[1m35s\u001b[0m 1ms/step - accuracy: 0.2197 - loss: 0.4737 - recall_3: 1.0000 - val_accuracy: 0.2194 - val_loss: 0.4747 - val_recall_3: 1.0000\n",
      "Epoch 12/30\n",
      "\u001b[1m31397/31397\u001b[0m \u001b[32m━━━━━━━━━━━━━━━━━━━━\u001b[0m\u001b[37m\u001b[0m \u001b[1m36s\u001b[0m 1ms/step - accuracy: 0.2195 - loss: 0.4736 - recall_3: 1.0000 - val_accuracy: 0.2194 - val_loss: 0.4746 - val_recall_3: 1.0000\n",
      "Epoch 13/30\n",
      "\u001b[1m31397/31397\u001b[0m \u001b[32m━━━━━━━━━━━━━━━━━━━━\u001b[0m\u001b[37m\u001b[0m \u001b[1m34s\u001b[0m 1ms/step - accuracy: 0.2198 - loss: 0.4738 - recall_3: 1.0000 - val_accuracy: 0.2194 - val_loss: 0.4758 - val_recall_3: 1.0000\n"
     ]
    }
   ],
   "source": [
    "import tensorflow as tf\n",
    "from sklearn.preprocessing import StandardScaler, OneHotEncoder\n",
    "import numpy as np\n",
    "from tensorflow.keras.callbacks import EarlyStopping\n",
    "\n",
    "# Definir el modelo\n",
    "model = tf.keras.Sequential([\n",
    "    tf.keras.layers.Dense(30, activation='relu', input_shape=(X_train.shape[1],)),\n",
    "    tf.keras.layers.Dense(50, activation='relu'),\n",
    "    tf.keras.layers.Dense(25, activation='relu'),\n",
    "    tf.keras.layers.Dense(1, activation='softmax')\n",
    "])\n",
    "early_stopping = EarlyStopping(monitor='val_loss', patience=3, restore_best_weights=True)\n",
    "# Compilar el modelo\n",
    "model.compile(optimizer=tf.keras.optimizers.Adam(learning_rate=0.001),\n",
    "              loss='binary_crossentropy',\n",
    "              metrics=['accuracy',tf.keras.metrics.Recall()])\n",
    "\n",
    "# Entrenar el modelo\n",
    "history = model.fit(X_train, y_train, epochs=30,validation_data=(X_test, y_test),callbacks=[early_stopping])\n",
    "\n",
    "\n"
   ]
  },
  {
   "cell_type": "code",
   "execution_count": 17,
   "id": "f7b3ead7-d569-4ed7-93f9-109de4ac0e93",
   "metadata": {},
   "outputs": [
    {
     "name": "stdout",
     "output_type": "stream",
     "text": [
      "\u001b[1m  234/31397\u001b[0m \u001b[37m━━━━━━━━━━━━━━━━━━━━\u001b[0m \u001b[1m20s\u001b[0m 652us/step"
     ]
    },
    {
     "name": "stderr",
     "output_type": "stream",
     "text": [
      "c:\\Users\\migue\\Desktop\\MachineLearning\\prueba\\venv\\Lib\\site-packages\\keras\\src\\ops\\nn.py:545: UserWarning: You are using a softmax over axis -1 of a tensor of shape (32, 1). This axis has size 1. The softmax operation will always return the value 1, which is likely not what you intended. Did you mean to use a sigmoid instead?\n",
      "  warnings.warn(\n"
     ]
    },
    {
     "name": "stdout",
     "output_type": "stream",
     "text": [
      "\u001b[1m31397/31397\u001b[0m \u001b[32m━━━━━━━━━━━━━━━━━━━━\u001b[0m\u001b[37m\u001b[0m \u001b[1m23s\u001b[0m 725us/step\n"
     ]
    },
    {
     "name": "stderr",
     "output_type": "stream",
     "text": [
      "c:\\Users\\migue\\Desktop\\MachineLearning\\prueba\\venv\\Lib\\site-packages\\keras\\src\\ops\\nn.py:545: UserWarning: You are using a softmax over axis -1 of a tensor of shape (None, 1). This axis has size 1. The softmax operation will always return the value 1, which is likely not what you intended. Did you mean to use a sigmoid instead?\n",
      "  warnings.warn(\n"
     ]
    },
    {
     "name": "stdout",
     "output_type": "stream",
     "text": [
      "\u001b[1m7850/7850\u001b[0m \u001b[32m━━━━━━━━━━━━━━━━━━━━\u001b[0m\u001b[37m\u001b[0m \u001b[1m6s\u001b[0m 738us/step\n"
     ]
    },
    {
     "data": {
      "image/png": "[encoded data removed]",
      "text/plain": [
       "<Figure size 1000x500 with 1 Axes>"
      ]
     },
     "metadata": {},
     "output_type": "display_data"
    },
    {
     "data": {
      "image/png": "[encoded data removed]",
      "text/plain": [
       "<Figure size 1000x500 with 1 Axes>"
      ]
     },
     "metadata": {},
     "output_type": "display_data"
    },
    {
     "data": {
      "image/png": "[encoded data removed]",
      "text/plain": [
       "<Figure size 1000x500 with 1 Axes>"
      ]
     },
     "metadata": {},
     "output_type": "display_data"
    }
   ],
   "source": [
    "import matplotlib.pyplot as plt\n",
    "from sklearn.metrics import recall_score\n",
    "\n",
    "# Obtener predicciones del conjunto de entrenamiento y validación\n",
    "train_predictions = model.predict(X_train)\n",
    "val_predictions = model.predict(X_test)\n",
    "\n",
    "# Calcular la sensibilidad (recall)\n",
    "train_recall = recall_score(y_train, train_predictions.round())\n",
    "val_recall = recall_score(y_test, val_predictions.round())\n",
    "\n",
    "# Obtener información de la historia del entrenamiento\n",
    "train_loss = history.history['loss']\n",
    "val_loss = history.history['val_loss']\n",
    "train_accuracy = history.history['accuracy']\n",
    "val_accuracy = history.history['val_accuracy']\n",
    "epochs = range(1, len(train_loss) + 1)\n",
    "\n",
    "# Plotear la pérdida\n",
    "plt.figure(figsize=(10, 5))\n",
    "plt.plot(epochs, train_loss, 'b', label='Training loss')\n",
    "plt.plot(epochs, val_loss, 'r', label='Validation loss')\n",
    "plt.title('Training and validation loss')\n",
    "plt.xlabel('Epochs')\n",
    "plt.ylabel('Loss')\n",
    "plt.legend()\n",
    "plt.show()\n",
    "\n",
    "# Plotear la precisión\n",
    "plt.figure(figsize=(10, 5))\n",
    "plt.plot(epochs, train_accuracy, 'b', label='Training accuracy')\n",
    "plt.plot(epochs, val_accuracy, 'r', label='Validation accuracy')\n",
    "plt.title('Training and validation accuracy')\n",
    "plt.xlabel('Epochs')\n",
    "plt.ylabel('Accuracy')\n",
    "plt.legend()\n",
    "plt.show()\n",
    "\n",
    "# Plotear la sensibilidad (recall)\n",
    "plt.figure(figsize=(10, 5))\n",
    "plt.plot(epochs, [train_recall]*len(epochs), 'b', label='Training recall')\n",
    "plt.plot(epochs, [val_recall]*len(epochs), 'r', label='Validation recall')\n",
    "plt.title('Training and validation recall')\n",
    "plt.xlabel('Epochs')\n",
    "plt.ylabel('Recall')\n",
    "plt.legend()\n",
    "plt.show()\n"
   ]
  },
  {
   "cell_type": "code",
   "execution_count": 19,
   "id": "8c082f5c",
   "metadata": {},
   "outputs": [
    {
     "name": "stderr",
     "output_type": "stream",
     "text": [
      "c:\\Users\\migue\\Desktop\\MachineLearning\\prueba\\venv\\Lib\\site-packages\\sklearn\\metrics\\_classification.py:1509: UndefinedMetricWarning: Precision is ill-defined and being set to 0.0 in labels with no predicted samples. Use `zero_division` parameter to control this behavior.\n",
      "  _warn_prf(average, modifier, f\"{metric.capitalize()} is\", len(result))\n",
      "c:\\Users\\migue\\Desktop\\MachineLearning\\prueba\\venv\\Lib\\site-packages\\sklearn\\metrics\\_classification.py:1509: UndefinedMetricWarning: Precision is ill-defined and being set to 0.0 in labels with no predicted samples. Use `zero_division` parameter to control this behavior.\n",
      "  _warn_prf(average, modifier, f\"{metric.capitalize()} is\", len(result))\n"
     ]
    },
    {
     "name": "stdout",
     "output_type": "stream",
     "text": [
      "recall value:  1.0\n",
      "precision value:  0.219354787337811\n",
      "accuracy value:  0.219354787337811\n",
      "              precision    recall  f1-score   support\n",
      "\n",
      "           0       0.00      0.00      0.00    196077\n",
      "           1       0.22      1.00      0.36     55096\n",
      "\n",
      "    accuracy                           0.22    251173\n",
      "   macro avg       0.11      0.50      0.18    251173\n",
      "weighted avg       0.05      0.22      0.08    251173\n",
      "\n"
     ]
    },
    {
     "name": "stderr",
     "output_type": "stream",
     "text": [
      "c:\\Users\\migue\\Desktop\\MachineLearning\\prueba\\venv\\Lib\\site-packages\\sklearn\\metrics\\_classification.py:1509: UndefinedMetricWarning: Precision is ill-defined and being set to 0.0 in labels with no predicted samples. Use `zero_division` parameter to control this behavior.\n",
      "  _warn_prf(average, modifier, f\"{metric.capitalize()} is\", len(result))\n"
     ]
    }
   ],
   "source": [
    "from sklearn.metrics import recall_score,precision_score,accuracy_score,classification_report\n",
    "val_recall = recall_score(y_test, val_predictions.round())\n",
    "val_precision = precision_score(y_test, val_predictions.round())\n",
    "val_accuracy = accuracy_score(y_test, val_predictions.round())\n",
    "classification_report_1 = classification_report(y_test, val_predictions.round())\n",
    "print(\"recall value: \",val_recall)\n",
    "print(\"precision value: \",val_precision)\n",
    "print(\"accuracy value: \",val_accuracy)\n",
    "print(classification_report_1)"
   ]
  },
  {
   "cell_type": "code",
   "execution_count": null,
   "id": "e397cf61",
   "metadata": {},
   "outputs": [],
   "source": []
  }
 ],
 "metadata": {
  "kernelspec": {
   "display_name": "Python 3 (ipykernel)",
   "language": "python",
   "name": "python3"
  },
  "language_info": {
   "codemirror_mode": {
    "name": "ipython",
    "version": 3
   },
   "file_extension": ".py",
   "mimetype": "text/x-python",
   "name": "python",
   "nbconvert_exporter": "python",
   "pygments_lexer": "ipython3",
   "version": "3.12.1"
  }
 },
 "nbformat": 4,
 "nbformat_minor": 5
}
