{
 "cells": [
  {
   "cell_type": "code",
   "execution_count": 1,
   "id": "61c0b526-1e7c-4a3b-98c4-23c1e712e10f",
   "metadata": {},
   "outputs": [
    {
     "ename": "PermissionError",
     "evalue": "[Errno 13] Permission denied",
     "output_type": "error",
     "traceback": [
      "\u001b[1;31m---------------------------------------------------------------------------\u001b[0m",
      "\u001b[1;31mPermissionError\u001b[0m                           Traceback (most recent call last)",
      "Cell \u001b[1;32mIn[1], line 3\u001b[0m\n\u001b[0;32m      1\u001b[0m \u001b[38;5;28;01mimport\u001b[39;00m \u001b[38;5;21;01mpandas\u001b[39;00m \u001b[38;5;28;01mas\u001b[39;00m \u001b[38;5;21;01mpd\u001b[39;00m\n\u001b[1;32m----> 3\u001b[0m df \u001b[38;5;241m=\u001b[39m \u001b[43mpd\u001b[49m\u001b[38;5;241;43m.\u001b[39;49m\u001b[43mread_csv\u001b[49m\u001b[43m(\u001b[49m\u001b[38;5;124;43mr\u001b[39;49m\u001b[38;5;124;43m'\u001b[39;49m\u001b[38;5;124;43mC:\u001b[39;49m\u001b[38;5;124;43m\\\u001b[39;49m\u001b[38;5;124;43mUsers\u001b[39;49m\u001b[38;5;124;43m\\\u001b[39;49m\u001b[38;5;124;43mDUU\u001b[39;49m\u001b[38;5;124;43m\\\u001b[39;49m\u001b[38;5;124;43mDesktop\u001b[39;49m\u001b[38;5;124;43m\\\u001b[39;49m\u001b[38;5;124;43m602\u001b[39;49m\u001b[38;5;124;43m\\\u001b[39;49m\u001b[38;5;124;43mflights_sample_3m.csv\u001b[39;49m\u001b[38;5;124;43m'\u001b[39;49m\u001b[43m)\u001b[49m\n\u001b[0;32m      5\u001b[0m pd\u001b[38;5;241m.\u001b[39mset_option(\u001b[38;5;124m'\u001b[39m\u001b[38;5;124mdisplay.max_columns\u001b[39m\u001b[38;5;124m'\u001b[39m, \u001b[38;5;28;01mNone\u001b[39;00m)\n\u001b[0;32m      7\u001b[0m df\u001b[38;5;241m.\u001b[39mhead(\u001b[38;5;241m20\u001b[39m)\n",
      "File \u001b[1;32mX:\\Python 3.11\\Lib\\site-packages\\pandas\\util\\_decorators.py:211\u001b[0m, in \u001b[0;36mdeprecate_kwarg.<locals>._deprecate_kwarg.<locals>.wrapper\u001b[1;34m(*args, **kwargs)\u001b[0m\n\u001b[0;32m    209\u001b[0m     \u001b[38;5;28;01melse\u001b[39;00m:\n\u001b[0;32m    210\u001b[0m         kwargs[new_arg_name] \u001b[38;5;241m=\u001b[39m new_arg_value\n\u001b[1;32m--> 211\u001b[0m \u001b[38;5;28;01mreturn\u001b[39;00m \u001b[43mfunc\u001b[49m\u001b[43m(\u001b[49m\u001b[38;5;241;43m*\u001b[39;49m\u001b[43margs\u001b[49m\u001b[43m,\u001b[49m\u001b[43m \u001b[49m\u001b[38;5;241;43m*\u001b[39;49m\u001b[38;5;241;43m*\u001b[39;49m\u001b[43mkwargs\u001b[49m\u001b[43m)\u001b[49m\n",
      "File \u001b[1;32mX:\\Python 3.11\\Lib\\site-packages\\pandas\\util\\_decorators.py:331\u001b[0m, in \u001b[0;36mdeprecate_nonkeyword_arguments.<locals>.decorate.<locals>.wrapper\u001b[1;34m(*args, **kwargs)\u001b[0m\n\u001b[0;32m    325\u001b[0m \u001b[38;5;28;01mif\u001b[39;00m \u001b[38;5;28mlen\u001b[39m(args) \u001b[38;5;241m>\u001b[39m num_allow_args:\n\u001b[0;32m    326\u001b[0m     warnings\u001b[38;5;241m.\u001b[39mwarn(\n\u001b[0;32m    327\u001b[0m         msg\u001b[38;5;241m.\u001b[39mformat(arguments\u001b[38;5;241m=\u001b[39m_format_argument_list(allow_args)),\n\u001b[0;32m    328\u001b[0m         \u001b[38;5;167;01mFutureWarning\u001b[39;00m,\n\u001b[0;32m    329\u001b[0m         stacklevel\u001b[38;5;241m=\u001b[39mfind_stack_level(),\n\u001b[0;32m    330\u001b[0m     )\n\u001b[1;32m--> 331\u001b[0m \u001b[38;5;28;01mreturn\u001b[39;00m \u001b[43mfunc\u001b[49m\u001b[43m(\u001b[49m\u001b[38;5;241;43m*\u001b[39;49m\u001b[43margs\u001b[49m\u001b[43m,\u001b[49m\u001b[43m \u001b[49m\u001b[38;5;241;43m*\u001b[39;49m\u001b[38;5;241;43m*\u001b[39;49m\u001b[43mkwargs\u001b[49m\u001b[43m)\u001b[49m\n",
      "File \u001b[1;32mX:\\Python 3.11\\Lib\\site-packages\\pandas\\io\\parsers\\readers.py:950\u001b[0m, in \u001b[0;36mread_csv\u001b[1;34m(filepath_or_buffer, sep, delimiter, header, names, index_col, usecols, squeeze, prefix, mangle_dupe_cols, dtype, engine, converters, true_values, false_values, skipinitialspace, skiprows, skipfooter, nrows, na_values, keep_default_na, na_filter, verbose, skip_blank_lines, parse_dates, infer_datetime_format, keep_date_col, date_parser, dayfirst, cache_dates, iterator, chunksize, compression, thousands, decimal, lineterminator, quotechar, quoting, doublequote, escapechar, comment, encoding, encoding_errors, dialect, error_bad_lines, warn_bad_lines, on_bad_lines, delim_whitespace, low_memory, memory_map, float_precision, storage_options)\u001b[0m\n\u001b[0;32m    935\u001b[0m kwds_defaults \u001b[38;5;241m=\u001b[39m _refine_defaults_read(\n\u001b[0;32m    936\u001b[0m     dialect,\n\u001b[0;32m    937\u001b[0m     delimiter,\n\u001b[1;32m   (...)\u001b[0m\n\u001b[0;32m    946\u001b[0m     defaults\u001b[38;5;241m=\u001b[39m{\u001b[38;5;124m\"\u001b[39m\u001b[38;5;124mdelimiter\u001b[39m\u001b[38;5;124m\"\u001b[39m: \u001b[38;5;124m\"\u001b[39m\u001b[38;5;124m,\u001b[39m\u001b[38;5;124m\"\u001b[39m},\n\u001b[0;32m    947\u001b[0m )\n\u001b[0;32m    948\u001b[0m kwds\u001b[38;5;241m.\u001b[39mupdate(kwds_defaults)\n\u001b[1;32m--> 950\u001b[0m \u001b[38;5;28;01mreturn\u001b[39;00m \u001b[43m_read\u001b[49m\u001b[43m(\u001b[49m\u001b[43mfilepath_or_buffer\u001b[49m\u001b[43m,\u001b[49m\u001b[43m \u001b[49m\u001b[43mkwds\u001b[49m\u001b[43m)\u001b[49m\n",
      "File \u001b[1;32mX:\\Python 3.11\\Lib\\site-packages\\pandas\\io\\parsers\\readers.py:605\u001b[0m, in \u001b[0;36m_read\u001b[1;34m(filepath_or_buffer, kwds)\u001b[0m\n\u001b[0;32m    602\u001b[0m _validate_names(kwds\u001b[38;5;241m.\u001b[39mget(\u001b[38;5;124m\"\u001b[39m\u001b[38;5;124mnames\u001b[39m\u001b[38;5;124m\"\u001b[39m, \u001b[38;5;28;01mNone\u001b[39;00m))\n\u001b[0;32m    604\u001b[0m \u001b[38;5;66;03m# Create the parser.\u001b[39;00m\n\u001b[1;32m--> 605\u001b[0m parser \u001b[38;5;241m=\u001b[39m \u001b[43mTextFileReader\u001b[49m\u001b[43m(\u001b[49m\u001b[43mfilepath_or_buffer\u001b[49m\u001b[43m,\u001b[49m\u001b[43m \u001b[49m\u001b[38;5;241;43m*\u001b[39;49m\u001b[38;5;241;43m*\u001b[39;49m\u001b[43mkwds\u001b[49m\u001b[43m)\u001b[49m\n\u001b[0;32m    607\u001b[0m \u001b[38;5;28;01mif\u001b[39;00m chunksize \u001b[38;5;129;01mor\u001b[39;00m iterator:\n\u001b[0;32m    608\u001b[0m     \u001b[38;5;28;01mreturn\u001b[39;00m parser\n",
      "File \u001b[1;32mX:\\Python 3.11\\Lib\\site-packages\\pandas\\io\\parsers\\readers.py:1442\u001b[0m, in \u001b[0;36mTextFileReader.__init__\u001b[1;34m(self, f, engine, **kwds)\u001b[0m\n\u001b[0;32m   1439\u001b[0m     \u001b[38;5;28mself\u001b[39m\u001b[38;5;241m.\u001b[39moptions[\u001b[38;5;124m\"\u001b[39m\u001b[38;5;124mhas_index_names\u001b[39m\u001b[38;5;124m\"\u001b[39m] \u001b[38;5;241m=\u001b[39m kwds[\u001b[38;5;124m\"\u001b[39m\u001b[38;5;124mhas_index_names\u001b[39m\u001b[38;5;124m\"\u001b[39m]\n\u001b[0;32m   1441\u001b[0m \u001b[38;5;28mself\u001b[39m\u001b[38;5;241m.\u001b[39mhandles: IOHandles \u001b[38;5;241m|\u001b[39m \u001b[38;5;28;01mNone\u001b[39;00m \u001b[38;5;241m=\u001b[39m \u001b[38;5;28;01mNone\u001b[39;00m\n\u001b[1;32m-> 1442\u001b[0m \u001b[38;5;28mself\u001b[39m\u001b[38;5;241m.\u001b[39m_engine \u001b[38;5;241m=\u001b[39m \u001b[38;5;28;43mself\u001b[39;49m\u001b[38;5;241;43m.\u001b[39;49m\u001b[43m_make_engine\u001b[49m\u001b[43m(\u001b[49m\u001b[43mf\u001b[49m\u001b[43m,\u001b[49m\u001b[43m \u001b[49m\u001b[38;5;28;43mself\u001b[39;49m\u001b[38;5;241;43m.\u001b[39;49m\u001b[43mengine\u001b[49m\u001b[43m)\u001b[49m\n",
      "File \u001b[1;32mX:\\Python 3.11\\Lib\\site-packages\\pandas\\io\\parsers\\readers.py:1753\u001b[0m, in \u001b[0;36mTextFileReader._make_engine\u001b[1;34m(self, f, engine)\u001b[0m\n\u001b[0;32m   1750\u001b[0m     \u001b[38;5;28;01mraise\u001b[39;00m \u001b[38;5;167;01mValueError\u001b[39;00m(msg)\n\u001b[0;32m   1752\u001b[0m \u001b[38;5;28;01mtry\u001b[39;00m:\n\u001b[1;32m-> 1753\u001b[0m     \u001b[38;5;28;01mreturn\u001b[39;00m \u001b[43mmapping\u001b[49m\u001b[43m[\u001b[49m\u001b[43mengine\u001b[49m\u001b[43m]\u001b[49m\u001b[43m(\u001b[49m\u001b[43mf\u001b[49m\u001b[43m,\u001b[49m\u001b[43m \u001b[49m\u001b[38;5;241;43m*\u001b[39;49m\u001b[38;5;241;43m*\u001b[39;49m\u001b[38;5;28;43mself\u001b[39;49m\u001b[38;5;241;43m.\u001b[39;49m\u001b[43moptions\u001b[49m\u001b[43m)\u001b[49m\n\u001b[0;32m   1754\u001b[0m \u001b[38;5;28;01mexcept\u001b[39;00m \u001b[38;5;167;01mException\u001b[39;00m:\n\u001b[0;32m   1755\u001b[0m     \u001b[38;5;28;01mif\u001b[39;00m \u001b[38;5;28mself\u001b[39m\u001b[38;5;241m.\u001b[39mhandles \u001b[38;5;129;01mis\u001b[39;00m \u001b[38;5;129;01mnot\u001b[39;00m \u001b[38;5;28;01mNone\u001b[39;00m:\n",
      "File \u001b[1;32mX:\\Python 3.11\\Lib\\site-packages\\pandas\\io\\parsers\\c_parser_wrapper.py:79\u001b[0m, in \u001b[0;36mCParserWrapper.__init__\u001b[1;34m(self, src, **kwds)\u001b[0m\n\u001b[0;32m     76\u001b[0m     kwds\u001b[38;5;241m.\u001b[39mpop(key, \u001b[38;5;28;01mNone\u001b[39;00m)\n\u001b[0;32m     78\u001b[0m kwds[\u001b[38;5;124m\"\u001b[39m\u001b[38;5;124mdtype\u001b[39m\u001b[38;5;124m\"\u001b[39m] \u001b[38;5;241m=\u001b[39m ensure_dtype_objs(kwds\u001b[38;5;241m.\u001b[39mget(\u001b[38;5;124m\"\u001b[39m\u001b[38;5;124mdtype\u001b[39m\u001b[38;5;124m\"\u001b[39m, \u001b[38;5;28;01mNone\u001b[39;00m))\n\u001b[1;32m---> 79\u001b[0m \u001b[38;5;28mself\u001b[39m\u001b[38;5;241m.\u001b[39m_reader \u001b[38;5;241m=\u001b[39m \u001b[43mparsers\u001b[49m\u001b[38;5;241;43m.\u001b[39;49m\u001b[43mTextReader\u001b[49m\u001b[43m(\u001b[49m\u001b[43msrc\u001b[49m\u001b[43m,\u001b[49m\u001b[43m \u001b[49m\u001b[38;5;241;43m*\u001b[39;49m\u001b[38;5;241;43m*\u001b[39;49m\u001b[43mkwds\u001b[49m\u001b[43m)\u001b[49m\n\u001b[0;32m     81\u001b[0m \u001b[38;5;28mself\u001b[39m\u001b[38;5;241m.\u001b[39munnamed_cols \u001b[38;5;241m=\u001b[39m \u001b[38;5;28mself\u001b[39m\u001b[38;5;241m.\u001b[39m_reader\u001b[38;5;241m.\u001b[39munnamed_cols\n\u001b[0;32m     83\u001b[0m \u001b[38;5;66;03m# error: Cannot determine type of 'names'\u001b[39;00m\n",
      "File \u001b[1;32mX:\\Python 3.11\\Lib\\site-packages\\pandas\\_libs\\parsers.pyx:547\u001b[0m, in \u001b[0;36mpandas._libs.parsers.TextReader.__cinit__\u001b[1;34m()\u001b[0m\n",
      "File \u001b[1;32mX:\\Python 3.11\\Lib\\site-packages\\pandas\\_libs\\parsers.pyx:636\u001b[0m, in \u001b[0;36mpandas._libs.parsers.TextReader._get_header\u001b[1;34m()\u001b[0m\n",
      "File \u001b[1;32mX:\\Python 3.11\\Lib\\site-packages\\pandas\\_libs\\parsers.pyx:852\u001b[0m, in \u001b[0;36mpandas._libs.parsers.TextReader._tokenize_rows\u001b[1;34m()\u001b[0m\n",
      "File \u001b[1;32mX:\\Python 3.11\\Lib\\site-packages\\pandas\\_libs\\parsers.pyx:1965\u001b[0m, in \u001b[0;36mpandas._libs.parsers.raise_parser_error\u001b[1;34m()\u001b[0m\n",
      "\u001b[1;31mPermissionError\u001b[0m: [Errno 13] Permission denied"
     ]
    }
   ],
   "source": [
    "import pandas as pd\n",
    "\n",
    "df = pd.read_csv(r'C:\\Users\\DUU\\Desktop\\602\\flights_sample_3m.csv')\n",
    "\n",
    "pd.set_option('display.max_columns', None)\n",
    "\n",
    "df.head(20)"
   ]
  },
  {
   "cell_type": "code",
   "execution_count": null,
   "id": "d0fb6da2-1fb0-4fb6-87cf-2a1f05515e3e",
   "metadata": {},
   "outputs": [],
   "source": [
    "print(\"DataFrame shape:\", df.shape)\n",
    "summary_stats = df.describe()"
   ]
  },
  {
   "cell_type": "code",
   "execution_count": null,
   "id": "d75fb382-c8a9-45ba-8181-79191eb93629",
   "metadata": {},
   "outputs": [],
   "source": [
    "df.info()"
   ]
  },
  {
   "cell_type": "code",
   "execution_count": null,
   "id": "ab381e3c-926e-4bda-9790-f110f83fd6a2",
   "metadata": {},
   "outputs": [],
   "source": [
    "df['FL_DATE'] = pd.to_datetime(df['FL_DATE'], errors='coerce')"
   ]
  },
  {
   "cell_type": "code",
   "execution_count": null,
   "id": "33beb0a0-4f2a-445e-9efb-8c93e15fe851",
   "metadata": {},
   "outputs": [],
   "source": [
    "missing_values_count = df.isnull().sum()\n",
    "missing_values_count_sorted = missing_values_count.sort_values(ascending=False)\n",
    "print(missing_values_count_sorted)"
   ]
  },
  {
   "cell_type": "code",
   "execution_count": null,
   "id": "de2ec82c-453d-43e4-b30e-d7a5d4ef7244",
   "metadata": {},
   "outputs": [],
   "source": [
    "columns_of_interest = [\"FL_DATE\", \"DEP_DELAY\", \"TAXI_OUT\", \"TAXI_IN\", \"ARR_DELAY\", \n",
    "                       \"ELAPSED_TIME\", \"AIR_TIME\", \"DISTANCE\", \"DELAY_DUE_CARRIER\", \n",
    "                       \"DELAY_DUE_WEATHER\", \"DELAY_DUE_NAS\", \"DELAY_DUE_SECURITY\", \n",
    "                       \"DELAY_DUE_LATE_AIRCRAFT\"]\n",
    "\n",
    "# Show the maximum and minimum values for each column\n",
    "max_values = df[columns_of_interest].max()\n",
    "min_values = df[columns_of_interest].min()\n",
    "\n",
    "# Display the maximum values\n",
    "print(\"Maximum Values:\")\n",
    "print(max_values)\n",
    "\n",
    "# Display the minimum values\n",
    "print(\"\\nMinimum Values:\")\n",
    "print(min_values)"
   ]
  },
  {
   "cell_type": "code",
   "execution_count": null,
   "id": "82988808-ea8b-4447-9d7f-e9ee6a942480",
   "metadata": {},
   "outputs": [],
   "source": []
  },
  {
   "cell_type": "code",
   "execution_count": null,
   "id": "7c11ca29-431a-44b5-8bce-6f144579094d",
   "metadata": {},
   "outputs": [],
   "source": []
  },
  {
   "cell_type": "code",
   "execution_count": null,
   "id": "964c8a5c-07e5-4987-afe4-e16bef61e978",
   "metadata": {},
   "outputs": [],
   "source": []
  },
  {
   "cell_type": "code",
   "execution_count": null,
   "id": "f8fa2d37-a379-4d9b-b5c9-efc3d16e4e5f",
   "metadata": {},
   "outputs": [],
   "source": [
    "\n",
    "\n",
    "pd.set_option('display.max_columns', None)\n",
    "pd.set_option('display.expand_frame_repr', False)\n",
    "pd.set_option('display.width', None)\n",
    "pd.set_option('display.max_rows', 100)\n",
    "\n"
   ]
  },
  {
   "cell_type": "code",
   "execution_count": null,
   "id": "0beba85c-61b0-450d-894a-8d846054c776",
   "metadata": {},
   "outputs": [],
   "source": [
    "max_values_dep_delay = df.sort_values(by=\"DEP_DELAY\", ascending=False).head(20)\n",
    "\n",
    "max_values_dep_delay"
   ]
  },
  {
   "cell_type": "code",
   "execution_count": null,
   "id": "d855f142-84e8-4471-b5e1-bcc39f80f095",
   "metadata": {},
   "outputs": [],
   "source": [
    "##### min_values_dep_delay = df.sort_values(by=\"DEP_DELAY\", ascending=True).head(20)\n",
    "\n",
    "######  min_values_dep_delay"
   ]
  },
  {
   "cell_type": "code",
   "execution_count": null,
   "id": "d34d6870-e4fe-4d52-9f18-585355a9e172",
   "metadata": {},
   "outputs": [],
   "source": []
  },
  {
   "cell_type": "code",
   "execution_count": null,
   "id": "681b3bed-0683-4a9b-86ea-8ef30438be2b",
   "metadata": {},
   "outputs": [],
   "source": []
  },
  {
   "cell_type": "code",
   "execution_count": null,
   "id": "f9cc3ced-04d9-4256-b541-fb86306c3b3a",
   "metadata": {},
   "outputs": [],
   "source": [
    "max_values_dep_delay = df.sort_values(by=\"TAXI_OUT\", ascending=False).head(20)\n",
    "\n",
    "max_values_dep_delay"
   ]
  },
  {
   "cell_type": "code",
   "execution_count": null,
   "id": "8ba808ec-b693-4424-ae23-c7bc74cfcba5",
   "metadata": {},
   "outputs": [],
   "source": [
    "max_values_dep_delay = df.sort_values(by=\"TAXI_OUT\", ascending=True).head(20)\n",
    "\n",
    "max_values_dep_delay"
   ]
  },
  {
   "cell_type": "code",
   "execution_count": null,
   "id": "8cb42236-4cb6-4905-829c-20dd99249997",
   "metadata": {},
   "outputs": [],
   "source": []
  },
  {
   "cell_type": "code",
   "execution_count": null,
   "id": "63794650-4098-4796-ab6e-51a596ee2464",
   "metadata": {},
   "outputs": [],
   "source": []
  },
  {
   "cell_type": "code",
   "execution_count": null,
   "id": "a636b2f3-8954-425b-bfa1-835d8d692c61",
   "metadata": {},
   "outputs": [],
   "source": [
    "max_values_dep_delay = df.sort_values(by=\"TAXI_IN\", ascending=False).head(20)\n",
    "\n",
    "max_values_dep_delay"
   ]
  },
  {
   "cell_type": "code",
   "execution_count": null,
   "id": "3918710c-7a17-4734-90d6-a8806b66ccac",
   "metadata": {},
   "outputs": [],
   "source": [
    "max_values_dep_delay = df.sort_values(by=\"TAXI_IN\", ascending=True).head(20)\n",
    "\n",
    "max_values_dep_delay"
   ]
  },
  {
   "cell_type": "code",
   "execution_count": null,
   "id": "3667767f-6898-495c-af5f-1151da5c459c",
   "metadata": {},
   "outputs": [],
   "source": []
  },
  {
   "cell_type": "code",
   "execution_count": null,
   "id": "f90a49fb-24fb-4075-a95d-c317f2ba28a7",
   "metadata": {},
   "outputs": [],
   "source": []
  },
  {
   "cell_type": "code",
   "execution_count": null,
   "id": "78d980eb-1261-406e-8a08-c57c71807cce",
   "metadata": {},
   "outputs": [],
   "source": [
    "max_values_dep_delay = df.sort_values(by=\"ARR_DELAY\", ascending=False).head(20)\n",
    "\n",
    "max_values_dep_delay"
   ]
  },
  {
   "cell_type": "code",
   "execution_count": null,
   "id": "953e963e-0ba3-4acc-8847-1328425ec7d1",
   "metadata": {},
   "outputs": [],
   "source": [
    "max_values_dep_delay = df.sort_values(by=\"ARR_DELAY\", ascending=True).head(20)\n",
    "\n",
    "max_values_dep_delay"
   ]
  },
  {
   "cell_type": "code",
   "execution_count": null,
   "id": "dc435bbc-4c0a-4cae-b0e1-1d3f78f691a1",
   "metadata": {},
   "outputs": [],
   "source": []
  },
  {
   "cell_type": "code",
   "execution_count": null,
   "id": "d3435592-144c-4659-bb17-401854d09fd4",
   "metadata": {},
   "outputs": [],
   "source": []
  },
  {
   "cell_type": "code",
   "execution_count": null,
   "id": "9e82a612-2b8f-44de-9327-b026ef2a0f87",
   "metadata": {},
   "outputs": [],
   "source": [
    "max_values_dep_delay = df.sort_values(by=\"ELAPSED_TIME\", ascending=False).head(20)\n",
    "\n",
    "max_values_dep_delay"
   ]
  },
  {
   "cell_type": "code",
   "execution_count": null,
   "id": "c30c1dbe-3687-4822-960a-bf8a81064474",
   "metadata": {},
   "outputs": [],
   "source": [
    "max_values_dep_delay = df.sort_values(by=\"ELAPSED_TIME\", ascending=True).head(20)\n",
    "\n",
    "max_values_dep_delay"
   ]
  },
  {
   "cell_type": "code",
   "execution_count": null,
   "id": "70afa6e3-789d-4178-a794-6f830940291f",
   "metadata": {},
   "outputs": [],
   "source": []
  },
  {
   "cell_type": "code",
   "execution_count": null,
   "id": "6a61072b-0597-4ca4-a08e-aafe4fd7d877",
   "metadata": {},
   "outputs": [],
   "source": []
  },
  {
   "cell_type": "code",
   "execution_count": null,
   "id": "0c19ba20-246d-478a-ab52-795544d6ad36",
   "metadata": {},
   "outputs": [],
   "source": [
    "max_values_dep_delay = df.sort_values(by=\"AIR_TIME\", ascending=False).head(20)\n",
    "\n",
    "max_values_dep_delay"
   ]
  },
  {
   "cell_type": "code",
   "execution_count": null,
   "id": "b9bd62f7-3241-4eed-8321-c0e342371308",
   "metadata": {},
   "outputs": [],
   "source": [
    "max_values_dep_delay = df.sort_values(by=\"AIR_TIME\", ascending=True).head(20)\n",
    "\n",
    "max_values_dep_delay"
   ]
  },
  {
   "cell_type": "code",
   "execution_count": null,
   "id": "025eab65-be34-424b-9f0e-efe28aab6d2b",
   "metadata": {},
   "outputs": [],
   "source": []
  },
  {
   "cell_type": "code",
   "execution_count": null,
   "id": "a7b29ac9-b553-4794-9c89-2de197cd505e",
   "metadata": {},
   "outputs": [],
   "source": []
  },
  {
   "cell_type": "code",
   "execution_count": null,
   "id": "a297d90a-9394-4a54-ad45-e65316827045",
   "metadata": {},
   "outputs": [],
   "source": [
    "max_values_dep_delay = df.sort_values(by=\"DISTANCE\", ascending=False).head(20)\n",
    "\n",
    "max_values_dep_delay"
   ]
  },
  {
   "cell_type": "code",
   "execution_count": null,
   "id": "66a61ade-ea5c-48ad-86c8-6d9501831edf",
   "metadata": {},
   "outputs": [],
   "source": [
    "max_values_dep_delay = df.sort_values(by=\"DISTANCE\", ascending=True).head(20)\n",
    "\n",
    "max_values_dep_delay"
   ]
  },
  {
   "cell_type": "code",
   "execution_count": null,
   "id": "3f43a33b-2632-41f3-9fa6-82868bd79bd5",
   "metadata": {},
   "outputs": [],
   "source": []
  },
  {
   "cell_type": "code",
   "execution_count": null,
   "id": "f214e546-b35f-4de1-bff4-944aa17aa427",
   "metadata": {},
   "outputs": [],
   "source": []
  },
  {
   "cell_type": "code",
   "execution_count": null,
   "id": "44622bea-01aa-4cde-945e-38fc8e60e3ce",
   "metadata": {},
   "outputs": [],
   "source": [
    "max_values_dep_delay = df.sort_values(by=\"DELAY_DUE_CARRIER\", ascending=False).head(20)\n",
    "\n",
    "max_values_dep_delay"
   ]
  },
  {
   "cell_type": "code",
   "execution_count": null,
   "id": "ca20794d-2936-4866-86d7-b10414bf10be",
   "metadata": {},
   "outputs": [],
   "source": [
    "max_values_dep_delay = df.sort_values(by=\"DELAY_DUE_CARRIER\", ascending=True).head(20)\n",
    "\n",
    "max_values_dep_delay"
   ]
  },
  {
   "cell_type": "code",
   "execution_count": null,
   "id": "28bc7000-858d-40b4-8721-38e0ebfe35c0",
   "metadata": {},
   "outputs": [],
   "source": []
  },
  {
   "cell_type": "code",
   "execution_count": null,
   "id": "4a971e18-4462-4155-9857-86d538225a45",
   "metadata": {},
   "outputs": [],
   "source": []
  },
  {
   "cell_type": "code",
   "execution_count": null,
   "id": "30b3486c-c52f-4b99-8234-e7b5d6e18803",
   "metadata": {},
   "outputs": [],
   "source": [
    "max_values_dep_delay = df.sort_values(by=\"DELAY_DUE_WEATHER\", ascending=False).head(20)\n",
    "\n",
    "max_values_dep_delay"
   ]
  },
  {
   "cell_type": "code",
   "execution_count": null,
   "id": "36943f99-0390-408b-8e6e-6a59ecc2d26e",
   "metadata": {},
   "outputs": [],
   "source": [
    "max_values_dep_delay = df.sort_values(by=\"DELAY_DUE_WEATHER\", ascending=True).head(20)\n",
    "\n",
    "max_values_dep_delay"
   ]
  },
  {
   "cell_type": "code",
   "execution_count": null,
   "id": "80beb503-c25c-48f5-a2a2-e5675e9545db",
   "metadata": {},
   "outputs": [],
   "source": []
  },
  {
   "cell_type": "code",
   "execution_count": null,
   "id": "e60d483c-f436-4b65-841a-9ef3b5abfd74",
   "metadata": {},
   "outputs": [],
   "source": []
  },
  {
   "cell_type": "code",
   "execution_count": null,
   "id": "422ea502-27a6-4835-a928-72297735092c",
   "metadata": {},
   "outputs": [],
   "source": [
    "max_values_dep_delay = df.sort_values(by=\"DELAY_DUE_NAS\", ascending=False).head(20)\n",
    "\n",
    "max_values_dep_delay"
   ]
  },
  {
   "cell_type": "code",
   "execution_count": null,
   "id": "a2fcce35-a3fa-41e8-ab8c-e6cd3b58a491",
   "metadata": {},
   "outputs": [],
   "source": [
    "max_values_dep_delay = df.sort_values(by=\"DELAY_DUE_NAS\", ascending=True).head(20)\n",
    "\n",
    "max_values_dep_delay"
   ]
  },
  {
   "cell_type": "code",
   "execution_count": null,
   "id": "27b5fc3e-a006-460d-a74c-f26a9d5d120b",
   "metadata": {},
   "outputs": [],
   "source": []
  },
  {
   "cell_type": "code",
   "execution_count": null,
   "id": "304068c3-7071-4f20-a7aa-abdbd900018e",
   "metadata": {},
   "outputs": [],
   "source": []
  },
  {
   "cell_type": "code",
   "execution_count": null,
   "id": "a4c11ab9-2832-4f8e-a831-2dd35e1d9335",
   "metadata": {},
   "outputs": [],
   "source": [
    "max_values_dep_delay = df.sort_values(by=\"DELAY_DUE_SECURITY\", ascending=False).head(20)\n",
    "\n",
    "max_values_dep_delay"
   ]
  },
  {
   "cell_type": "code",
   "execution_count": null,
   "id": "09b52a3d-2412-4356-bca7-c291ebedee1b",
   "metadata": {},
   "outputs": [],
   "source": [
    "max_values_dep_delay = df.sort_values(by=\"DELAY_DUE_SECURITY\", ascending=True).head(20)\n",
    "\n",
    "max_values_dep_delay"
   ]
  },
  {
   "cell_type": "code",
   "execution_count": null,
   "id": "0758061e-83b1-4781-92de-b714d73bfa1f",
   "metadata": {},
   "outputs": [],
   "source": []
  },
  {
   "cell_type": "code",
   "execution_count": null,
   "id": "ed538d8d-3646-4357-a092-8044cfc273e5",
   "metadata": {},
   "outputs": [],
   "source": []
  },
  {
   "cell_type": "code",
   "execution_count": null,
   "id": "920e9fb2-97b9-4b51-ad95-80135726aa7c",
   "metadata": {},
   "outputs": [],
   "source": [
    "max_values_dep_delay = df.sort_values(by=\"DELAY_DUE_LATE_AIRCRAFT\", ascending=False).head(20)\n",
    "\n",
    "max_values_dep_delay"
   ]
  },
  {
   "cell_type": "code",
   "execution_count": null,
   "id": "a19cc563-c6c5-48f8-9110-52754f308823",
   "metadata": {},
   "outputs": [],
   "source": [
    "max_values_dep_delay = df.sort_values(by=\"DELAY_DUE_LATE_AIRCRAFT\", ascending=True).head(20)\n",
    "\n",
    "max_values_dep_delay"
   ]
  },
  {
   "cell_type": "code",
   "execution_count": null,
   "id": "cb99da02-2f72-4c2f-88b6-ada9f4a606f8",
   "metadata": {},
   "outputs": [],
   "source": []
  },
  {
   "cell_type": "code",
   "execution_count": null,
   "id": "aec43f14-6aae-4930-85d9-e026d240f192",
   "metadata": {},
   "outputs": [],
   "source": []
  },
  {
   "cell_type": "code",
   "execution_count": null,
   "id": "467c0b15-6dd5-47ff-af41-0145d17963a0",
   "metadata": {},
   "outputs": [],
   "source": []
  },
  {
   "cell_type": "code",
   "execution_count": null,
   "id": "2579baf3-4743-4e42-b406-abe04bf692f6",
   "metadata": {},
   "outputs": [],
   "source": [
    "missing_values_count = df.isnull().sum()\n",
    "missing_values_count_sorted = missing_values_count.sort_values(ascending=False)\n",
    "print(missing_values_count_sorted)\n"
   ]
  },
  {
   "cell_type": "code",
   "execution_count": null,
   "id": "d654ff03-7d3f-47ef-9b1d-9c7509b2cfd3",
   "metadata": {},
   "outputs": [],
   "source": []
  }
 ],
 "metadata": {
  "kernelspec": {
   "display_name": "Python 3 (ipykernel)",
   "language": "python",
   "name": "python3"
  },
  "language_info": {
   "codemirror_mode": {
    "name": "ipython",
    "version": 3
   },
   "file_extension": ".py",
   "mimetype": "text/x-python",
   "name": "python",
   "nbconvert_exporter": "python",
   "pygments_lexer": "ipython3",
   "version": "3.11.5"
  }
 },
 "nbformat": 4,
 "nbformat_minor": 5
}
